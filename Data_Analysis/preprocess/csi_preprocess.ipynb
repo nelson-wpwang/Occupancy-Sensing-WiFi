{
 "cells": [
  {
   "cell_type": "code",
   "execution_count": 1,
   "id": "subsequent-consultancy",
   "metadata": {},
   "outputs": [],
   "source": [
    "import sys\n",
    "import json\n",
    "import math\n",
    "import argparse\n",
    "import pandas as pd\n",
    "import numpy as np\n",
    "import matplotlib.pyplot as plt\n",
    "from scipy.interpolate import CubicSpline\n",
    "import random"
   ]
  },
  {
   "cell_type": "code",
   "execution_count": 2,
   "id": "anonymous-giving",
   "metadata": {},
   "outputs": [],
   "source": [
    "file_csi_nobody = \"log.csi.nobody.csv\"\n",
    "df_csi_nobody = pd.read_csv(file_csi_nobody)\n",
    "\n",
    "file_csi_1p = \"log.csi.1person.csv\"\n",
    "df_csi_1p = pd.read_csv(file_csi_1p)\n",
    "\n",
    "file_csi_2p = \"log.csi.2person.csv\"\n",
    "df_csi_2p = pd.read_csv(file_csi_2p)\n",
    "\n",
    "# file_ftm_nobody = \"log.ftm.nobody.csv\"\n",
    "# df_ftm_nobody = pd.read_csv(file_ftm_nobody)\n",
    "\n",
    "# file_ftm_1p = \"log.ftm.1person.csv\"\n",
    "# df_ftm_1p = pd.read_csv(file_ftm_1p)\n",
    "\n",
    "# file_ftm_2p = \"log.csi.2person.csv\"\n",
    "# df_ftm_2p = pd.read_csv(file_ftm_2p)"
   ]
  },
  {
   "cell_type": "code",
   "execution_count": 3,
   "id": "trying-limitation",
   "metadata": {},
   "outputs": [],
   "source": [
    "# ftm have some format issue that needs to be corrected\n",
    "# print(df_ftm_nobody)"
   ]
  },
  {
   "cell_type": "code",
   "execution_count": 4,
   "id": "front-plumbing",
   "metadata": {},
   "outputs": [
    {
     "data": {
      "text/plain": [
       "(0.0, 1000.0, -100.0, 0.0)"
      ]
     },
     "execution_count": 4,
     "metadata": {},
     "output_type": "execute_result"
    },
    {
     "data": {
      "image/png": "[encoded data removed]",
      "text/plain": [
       "<Figure size 432x288 with 1 Axes>"
      ]
     },
     "metadata": {
      "needs_background": "light"
     },
     "output_type": "display_data"
    }
   ],
   "source": [
    "df_rssi = df_csi_nobody.loc[:, ['rssi']]\n",
    "df_rssi.plot(y=['rssi'])\n",
    "plt.axis([0, len(df_rssi.index), -100, 0])"
   ]
  },
  {
   "cell_type": "code",
   "execution_count": 5,
   "id": "stretch-tradition",
   "metadata": {},
   "outputs": [
    {
     "name": "stdout",
     "output_type": "stream",
     "text": [
      "     len                                               data\n",
      "0    128  [0,0,0,-10,0,-10,-1,-10,-1,-9,-1,-9,-1,-9,-1,-...\n",
      "1    128  [0,0,-10,1,-10,1,-10,1,-10,1,-9,1,-9,2,-9,2,-9...\n",
      "2    128  [0,0,8,1,8,1,8,1,8,1,8,0,8,0,8,0,8,-1,7,-1,8,-...\n",
      "3    128  [0,0,1,8,1,8,1,8,1,8,2,8,2,8,3,8,3,8,3,8,4,8,5...\n",
      "4    128  [0,0,9,-2,9,-3,9,-2,9,-3,9,-3,9,-3,9,-3,9,-3,9...\n",
      "..   ...                                                ...\n",
      "995  128  [0,0,5,9,5,9,5,9,5,9,5,9,5,9,5,8,5,8,5,8,5,7,6...\n",
      "996  128  [0,0,6,7,-1,8,0,5,4,12,5,4,-1,9,0,7,6,9,4,10,3...\n",
      "997  128  [0,0,-6,-8,-6,-8,-6,-7,-6,-7,-6,-7,-6,-6,-7,-6...\n",
      "998  128  [0,0,7,5,7,5,7,5,7,5,7,5,7,5,7,4,7,4,8,3,8,3,8...\n",
      "999  128  [0,0,-10,2,-10,3,-10,3,-10,3,-9,3,-9,3,-9,3,-8...\n",
      "\n",
      "[1000 rows x 2 columns]\n"
     ]
    }
   ],
   "source": [
    "df_csi = df_csi_nobody.loc[:, ['len', 'data']]\n",
    "print(df_csi)"
   ]
  },
  {
   "cell_type": "code",
   "execution_count": 6,
   "id": "minimal-screening",
   "metadata": {},
   "outputs": [],
   "source": [
    "# subcarrier 1-26, 38-63 are valid subcarriers\n",
    "select_list = []\n",
    "select_list += range(1,27)\n",
    "select_list += range(38,64)"
   ]
  },
  {
   "cell_type": "code",
   "execution_count": 7,
   "id": "dedicated-tournament",
   "metadata": {},
   "outputs": [],
   "source": [
    "def get_csi_phase_amp(df_dataframe):\n",
    "    size_x = len(df_dataframe.index)\n",
    "    size_y = df_dataframe.iloc[0]['len'] // 2\n",
    "    csi_imag = np.zeros([size_x, size_y])\n",
    "    csi_real = np.zeros([size_x, size_y])\n",
    "    csi_amp = np.zeros([size_x, size_y], dtype=np.float64)\n",
    "    csi_ang = np.zeros([size_x, size_y], dtype=np.float64)\n",
    "\n",
    "    for x, csi in enumerate(df_dataframe.iloc):\n",
    "            csi_raw_data = json.loads(csi['data'])\n",
    "            \n",
    "            for y in range(0, len(csi_raw_data)):\n",
    "                if y%2 == 0:\n",
    "                    csi_imag[x][y//2] = csi_raw_data[y]\n",
    "                else:\n",
    "                    csi_real[x][y//2] = csi_raw_data[y]\n",
    "\n",
    "            for i in range(0, len(csi_raw_data)//2):\n",
    "                if i < len(csi_raw_data)//4:\n",
    "                    csi_amp[x][i+32] = math.sqrt(pow(csi_imag[x][i], 2) + pow(csi_real[x][i], 2))\n",
    "                    csi_ang[x][i+32] = math.atan2(csi_imag[x][i], csi_real[x][i])\n",
    "                else:\n",
    "                    csi_amp[x][i-32] = math.sqrt(pow(csi_imag[x][i], 2) + pow(csi_real[x][i], 2))\n",
    "                    csi_ang[x][i-32] = math.atan2(csi_imag[x][i], csi_real[x][i])\n",
    "\n",
    "    columns = [f\"subcarrier{i}\" for i in range(-32, 32)]\n",
    "    df_csi_amp = pd.DataFrame(csi_amp, columns=columns)\n",
    "    df_csi_phase = pd.DataFrame(csi_ang, columns=columns)\n",
    "    df_csi_amp_valid = pd.DataFrame()\n",
    "    df_csi_phase_valid = pd.DataFrame()\n",
    "\n",
    "# trim the valid csi data\n",
    "    for i in select_list:\n",
    "        if i > 0:\n",
    "            df_csi_amp_valid[f\"subcarrier{i}\"] = df_csi_amp[f\"subcarrier{i}\"]\n",
    "            df_csi_phase_valid[f\"subcarrier{i}\"] = df_csi_phase[f\"subcarrier{i}\"]\n",
    "        if i < 0:\n",
    "            df_csi_amp_valid[f\"subcarrier{i}\"] = df_csi_amp[f\"subcarrier{i}\"]\n",
    "            df_csi_phase_valid[f\"subcarrier{i}\"] = df_csi_phase[f\"subcarrier{i}\"]\n",
    "#         df_csi_amplitude_valid[f\"subcarrier{i}\"] = df_csi_amplitude[f\"subcarrier{i}\"]\n",
    "    \n",
    "#     return df_csi_valid, df_csi_phase_valid_raw, df_csi_amplitude_valid\n",
    "#     return df_csi_amp, df_csi_phase, df_csi_amp_tmp, df_csi_phase_tmp\n",
    "    return df_csi_amp_valid, df_csi_phase_valid"
   ]
  },
  {
   "cell_type": "code",
   "execution_count": 8,
   "id": "encouraging-tract",
   "metadata": {},
   "outputs": [],
   "source": [
    "def sort_zero_sub_with_truth(df_dataframe, select_list, divide_index, truth):\n",
    "    # collect zero subcarrier across all csi data\n",
    "    zero_sub_data = []\n",
    "    for i in range(df_dataframe.shape[0]):\n",
    "        y = []\n",
    "        for j in select_list:\n",
    "    #             print(df_csi_phase_valid[f\"subcarrier{j}\"])\n",
    "            y.append(df_dataframe.iloc[i][f\"subcarrier{j}\"])\n",
    "        x = select_list\n",
    "        cs_y = CubicSpline(x,y,bc_type='natural')\n",
    "#         y.append(cs_y(32))\n",
    "        if cs_y(32) < 0:\n",
    "            zero_sub_data.append(-abs(cs_y(32)))\n",
    "        else:\n",
    "            zero_sub_data.append(abs(cs_y(32)))\n",
    "#         zero_sub_data.append(z)\n",
    "#     print(len(zero_sub_data))\n",
    "\n",
    "    data_by_event = []\n",
    "    data_only = []\n",
    "    for i in range(df_dataframe.shape[0]//divide_index):\n",
    "        x = []\n",
    "        for j in range(divide_index):\n",
    "            x.append(zero_sub_data[10*i+j])\n",
    "        data_only.append(x)\n",
    "#         data_by_event.append([x,truth])\n",
    "            \n",
    "#     print(data_only)\n",
    "    return data_only"
   ]
  },
  {
   "cell_type": "code",
   "execution_count": 9,
   "id": "comprehensive-jefferson",
   "metadata": {},
   "outputs": [],
   "source": [
    "zero_amp_valid, zero_phase_valid = get_csi_phase_amp(df_csi_nobody)\n",
    "# one_amp_valid, one_phase_valid = get_csi_phase_amp(df_csi_1p)\n",
    " # two_phase_valid, two_amp_valid = get_csi_phase_amp(df_csi_2p)"
   ]
  },
  {
   "cell_type": "code",
   "execution_count": 10,
   "id": "everyday-jackson",
   "metadata": {},
   "outputs": [],
   "source": [
    "#zero_phase_by_event_truth = sort_zero_sub_with_truth(zero_phase_valid, select_list, 10, 0)\n",
    "#zero_amp_by_event_truth = sort_zero_sub_with_truth(zero_amp_valid, select_list, 10, 0)\n",
    "#zero_valid_w_truth = sort_zero_sub_with_truth(zero_csi_valid, select_list, 10, 0)\n",
    "\n",
    "#one_phase_by_event_truth = sort_zero_sub_with_truth(one_phase_valid, select_list, 10, 1)\n",
    "#one_amp_by_event_truth = sort_zero_sub_with_truth(one_amp_valid, select_list, 10, 1)\n",
    "#one_valid_w_truth = sort_zero_sub_with_truth(one_csi_valid, select_list, 10, 1)\n",
    "\n",
    "#two_phase_by_event_truth = sort_zero_sub_with_truth(two_phase_valid, select_list, 10, 2)\n",
    "#two_amp_by_event_truth = sort_zero_sub_with_truth(two_amp_valid, select_list, 10, 2)\n",
    "#two_valid_w_truth = sort_zero_sub_with_truth(two_csi_valid, select_list, 10, 2)"
   ]
  },
  {
   "cell_type": "code",
   "execution_count": 11,
   "id": "brutal-muscle",
   "metadata": {},
   "outputs": [],
   "source": [
    "all_phase_data = []\n",
    "#for i in range(len(zero_phase_by_event_truth)):\n",
    "#    all_phase_data.append(zero_phase_by_event_truth[i])\n",
    "#     all_phase_data.append(one_phase_by_event_truth[i])\n",
    "#     all_phase_data.append(two_phase_by_event_truth[i])\n",
    "# random shuffle the data\n",
    "# random.shuffle(all_phase_data)\n",
    "\n",
    "#all_amp_data = []\n",
    "#for i in range(len(zero_phase_by_event_truth)):\n",
    " #   all_amp_data.append(zero_amp_by_event_truth[i])\n",
    "#     all_amp_data.append(one_amp_by_event_truth[i])\n",
    "#     all_amp_data.append(two_amp_by_event_truth[i])\n",
    "# random shuffle the data\n",
    "# random.shuffle(all_amp_data)\n",
    "\n",
    "#all_csi_data = []\n",
    "#for i in range(len(zero_phase_by_event_truth)):\n",
    "#    all_csi_data.append(zero_valid_w_truth[i])\n",
    "#     all_csi_data.append(one_valid_w_truth[i])\n",
    "#     all_csi_data.append(two_valid_w_truth[i])\n",
    "# random shuffle the data\n",
    "# random.shuffle(all_csi_data)\n",
    "\n",
    "# 到这儿所有的data处理应该都完成了，每个list中每个元素的格式是：【【十个数，每channel的central subcarrier的amp/phase】，0/1/2取决于ground truth】"
   ]
  },
  {
   "cell_type": "code",
   "execution_count": 12,
   "id": "formal-creation",
   "metadata": {},
   "outputs": [],
   "source": [
    "with open('csi_phase_processed_data.csv', 'w') as filehandle:\n",
    "    for item in all_phase_data:\n",
    "        item_str = str(item)\n",
    "        print(item_str)\n",
    "        filehandle.writelines(\"%s\\n\" % item_str[1:-1])\n",
    "    filehandle.writelines(\"%s\\n\" % place for place in all_phase_data)\n",
    "filehandle.close()\n",
    "\n",
    "#with open('csi_amp_processed_data.csv', 'w') as filehandle:\n",
    "#     for item in all_amp_data:\n",
    " #       item_str = str(item)\n",
    "#        print(item_str)\n",
    " #       filehandle.writelines(\"%s\\n\" % item_str[1:-1])\n",
    "#     filehandle.writelines(\"%s\\n\" % place for place in all_amp_data)\n",
    "#filehandle.close()\n",
    "\n",
    "#with open('csi_abs_processed_data.csv', 'w') as filehandle:\n",
    "#     for item in all_csi_data:\n",
    "#        item_str = str(item)\n",
    "#        print(item_str)\n",
    " #       filehandle.writelines(\"%s\\n\" % item_str[1:-1])\n",
    "#     filehandle.writelines(\"%s\\n\" % place for place in all_csi_data)\n",
    "#filehandle.close()"
   ]
  },
  {
   "cell_type": "code",
   "execution_count": null,
   "id": "finite-design",
   "metadata": {},
   "outputs": [],
   "source": []
  }
 ],
 "metadata": {
  "kernelspec": {
   "display_name": "Python 3",
   "language": "python",
   "name": "python3"
  },
  "language_info": {
   "codemirror_mode": {
    "name": "ipython",
    "version": 3
   },
   "file_extension": ".py",
   "mimetype": "text/x-python",
   "name": "python",
   "nbconvert_exporter": "python",
   "pygments_lexer": "ipython3",
   "version": "3.8.5"
  }
 },
 "nbformat": 4,
 "nbformat_minor": 5
}
