{
 "cells": [
  {
   "cell_type": "code",
   "execution_count": 19,
   "id": "possible-shirt",
   "metadata": {},
   "outputs": [],
   "source": [
    "import sys\n",
    "import json\n",
    "import math\n",
    "import argparse\n",
    "import pandas as pd\n",
    "import numpy as np\n",
    "import matplotlib.pyplot as plt\n",
    "from scipy.interpolate import CubicSpline\n",
    "import random"
   ]
  },
  {
   "cell_type": "code",
   "execution_count": 20,
   "id": "polar-childhood",
   "metadata": {},
   "outputs": [],
   "source": [
    "file_ftm_nobody = \"log.ftm.nobody.csv\"\n",
    "\n",
    "file_ftm_1p = \"log.ftm.1person.csv\"\n",
    "\n",
    "file_ftm_2p = \"log.ftm.2person.csv\"\n"
   ]
  },
  {
   "cell_type": "code",
   "execution_count": 21,
   "id": "exclusive-suggestion",
   "metadata": {},
   "outputs": [],
   "source": [
    "def read_file(filename):\n",
    "    lines = []\n",
    "    with open(filename) as f:\n",
    "        while True:\n",
    "            line = f.readline()\n",
    "            components = line.split(\",\")\n",
    "            if line != '':\n",
    "                lines.append(components)\n",
    "            if not line:\n",
    "                break;\n",
    "    return lines"
   ]
  },
  {
   "cell_type": "code",
   "execution_count": 22,
   "id": "indonesian-breath",
   "metadata": {},
   "outputs": [],
   "source": [
    "\n",
    "def get_data_pos(char_string, char_compare):\n",
    "    for i in range(len(char_string)):\n",
    "        if char_string[i] == char_compare:\n",
    "            return i"
   ]
  },
  {
   "cell_type": "code",
   "execution_count": 23,
   "id": "played-punch",
   "metadata": {},
   "outputs": [],
   "source": [
    "def process_ftm(components):\n",
    "#     print(components)\n",
    "    channel = components[1]\n",
    "    mac = components[2]\n",
    "    rtt_time = components[3]\n",
    "\n",
    "    j = get_data_pos(components[4], '[')\n",
    "\n",
    "    rtt_dist = components[4][1:j-2]\n",
    "    # collect rtt data:\n",
    "    rtt_data = []\n",
    "    rtt_data.append(components[4][j+1:-1])\n",
    "\n",
    "    for i in range(5, len(components)-1):\n",
    "        rtt_data.append(components[i])\n",
    "\n",
    "    m = get_data_pos(components[-1], ']')\n",
    "    rtt_data.append(components[-1][1:m])\n",
    "    \n",
    "    return channel, mac, rtt_time, rtt_dist, rtt_data\n"
   ]
  },
  {
   "cell_type": "code",
   "execution_count": 24,
   "id": "random-discipline",
   "metadata": {
    "code_folding": []
   },
   "outputs": [],
   "source": [
    "def generate_dataframe_w_truth(lines, divide_index, truth):\n",
    "    parsed_data = []\n",
    "    for i in range(len(lines)):\n",
    "        channel, mac, rtt_time, rtt_dist, rtt_data = process_ftm(lines[i])\n",
    "        parsed_data.append([channel, mac, rtt_time, rtt_dist, rtt_data])\n",
    "\n",
    "    df_ftm = pd.DataFrame(parsed_data, columns=['channel', 'mac', 'rtt_time', 'rtt_dist', 'rtt_data'])\n",
    "    \n",
    "    ftm_w_truth = []\n",
    "    for i in range(len(lines)//divide_index):\n",
    "        temp_lst = []\n",
    "        for j in range(divide_index):\n",
    "            temp_lst.append(float(df_ftm.iloc[10*i+j]['rtt_dist']))\n",
    "        ftm_w_truth.append([temp_lst, truth])\n",
    "#     ftm_w_truth = pd.DataFrame(ftm_w_truth, columns = ['rtt_dist', 'ground truth'])\n",
    "#     print(ftm_w_truth)\n",
    "    return ftm_w_truth"
   ]
  },
  {
   "cell_type": "code",
   "execution_count": 25,
   "id": "ambient-agenda",
   "metadata": {},
   "outputs": [],
   "source": [
    "#read file and generate \n",
    "lines_nobody = read_file(file_ftm_nobody)\n",
    "ftm_nobody_w_truth = generate_dataframe_w_truth(lines_nobody, 10, 0)\n",
    "\n",
    "lines_1p = read_file(file_ftm_1p)\n",
    "ftm_1p_w_truth = generate_dataframe_w_truth(lines_1p, 10, 1)\n",
    "\n",
    "lines_2p = read_file(file_ftm_2p)\n",
    "ftm_2p_w_truth = generate_dataframe_w_truth(lines_2p, 10, 2)"
   ]
  },
  {
   "cell_type": "code",
   "execution_count": 26,
   "id": "independent-portland",
   "metadata": {},
   "outputs": [],
   "source": [
    "# combine and shuffle all data\n",
    "all_ftm_data = []\n",
    "for i in range(len(ftm_nobody_w_truth)):\n",
    "    all_ftm_data.append(ftm_nobody_w_truth[i])\n",
    "    all_ftm_data.append(ftm_1p_w_truth[i])\n",
    "    all_ftm_data.append(ftm_2p_w_truth[i])\n",
    "    \n",
    "random.shuffle(all_ftm_data)\n",
    "# 到这儿所有的data处理应该都完成了，每个list中每个元素的格式是：【【十个数，每channel的ftm reading】，0/1/2取决于ground truth】"
   ]
  },
  {
   "cell_type": "code",
   "execution_count": 27,
   "id": "attractive-aurora",
   "metadata": {},
   "outputs": [],
   "source": [
    "with open('ftm_processed_data.csv', 'w') as filehandle:\n",
    "    filehandle.writelines(\"%s\\n\" % place for place in all_ftm_data)\n",
    "filehandle.close()"
   ]
  },
  {
   "cell_type": "code",
   "execution_count": null,
   "id": "logical-appliance",
   "metadata": {},
   "outputs": [],
   "source": []
  }
 ],
 "metadata": {
  "kernelspec": {
   "display_name": "Python 3",
   "language": "python",
   "name": "python3"
  },
  "language_info": {
   "codemirror_mode": {
    "name": "ipython",
    "version": 3
   },
   "file_extension": ".py",
   "mimetype": "text/x-python",
   "name": "python",
   "nbconvert_exporter": "python",
   "pygments_lexer": "ipython3",
   "version": "3.9.2"
  }
 },
 "nbformat": 4,
 "nbformat_minor": 5
}
