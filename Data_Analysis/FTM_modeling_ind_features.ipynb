{
 "cells": [
  {
   "cell_type": "code",
   "execution_count": 1,
   "id": "98216a33",
   "metadata": {},
   "outputs": [],
   "source": [
    "import pandas as pd\n",
    "import numpy as np\n",
    "import matplotlib.pyplot as plt\n",
    "import matplotlib.dates as mdate\n",
    "import os\n",
    "from sklearn.model_selection import train_test_split\n",
    "from sklearn.feature_selection import SelectFromModel\n",
    "from sklearn.ensemble import RandomForestClassifier\n",
    "from sklearn.preprocessing import StandardScaler\n",
    "from sklearn.metrics import confusion_matrix\n",
    "from sklearn.metrics import f1_score\n",
    "from sklearn.metrics import recall_score\n",
    "from sklearn.metrics import precision_score\n",
    "from sklearn.metrics import accuracy_score\n",
    "from sklearn.neighbors import KNeighborsClassifier\n",
    "from sklearn.inspection import permutation_importance\n",
    "import xgboost as xgb\n",
    "from xgboost import plot_importance\n",
    "from sklearn.metrics import plot_confusion_matrix\n",
    "from sklearn.linear_model import LogisticRegression\n",
    "from sklearn.svm import SVC\n",
    "from sklearn import svm\n",
    "import seaborn as sns"
   ]
  },
  {
   "cell_type": "code",
   "execution_count": 2,
   "id": "a8824b0a",
   "metadata": {},
   "outputs": [],
   "source": [
    "# path = 'C:\\\\Users\\\\fatem\\\\Dropbox\\\\Occupancy Detection\\\\Time-series processed data'\n",
    "# os.chdir(path)"
   ]
  },
  {
   "cell_type": "code",
   "execution_count": 2,
   "id": "797ec87e",
   "metadata": {},
   "outputs": [],
   "source": [
    "path = '/Users/fatemenikseresht/Dropbox/Occupancy Detection/Time-series processed data'\n",
    "os.chdir(path)"
   ]
  },
  {
   "cell_type": "code",
   "execution_count": 3,
   "id": "0936e1f9",
   "metadata": {},
   "outputs": [],
   "source": [
    "ftm_ind_features = pd.read_csv('labeled_ftm index features_sliding win5_data.csv')"
   ]
  },
  {
   "cell_type": "code",
   "execution_count": 4,
   "id": "fcf50bc5",
   "metadata": {},
   "outputs": [
    {
     "data": {
      "text/html": [
       "<div>\n",
       "<style scoped>\n",
       "    .dataframe tbody tr th:only-of-type {\n",
       "        vertical-align: middle;\n",
       "    }\n",
       "\n",
       "    .dataframe tbody tr th {\n",
       "        vertical-align: top;\n",
       "    }\n",
       "\n",
       "    .dataframe thead th {\n",
       "        text-align: right;\n",
       "    }\n",
       "</style>\n",
       "<table border=\"1\" class=\"dataframe\">\n",
       "  <thead>\n",
       "    <tr style=\"text-align: right;\">\n",
       "      <th></th>\n",
       "      <th>Unnamed: 0</th>\n",
       "      <th>index</th>\n",
       "      <th>ch1mean</th>\n",
       "      <th>ch1std</th>\n",
       "      <th>ch1median</th>\n",
       "      <th>ch1rme</th>\n",
       "      <th>ch2mean</th>\n",
       "      <th>ch2std</th>\n",
       "      <th>ch2median</th>\n",
       "      <th>ch2rme</th>\n",
       "      <th>...</th>\n",
       "      <th>ch8rme</th>\n",
       "      <th>ch9mean</th>\n",
       "      <th>ch9std</th>\n",
       "      <th>ch9median</th>\n",
       "      <th>ch9rme</th>\n",
       "      <th>ch10mean</th>\n",
       "      <th>ch10std</th>\n",
       "      <th>ch10median</th>\n",
       "      <th>ch10rme</th>\n",
       "      <th>label</th>\n",
       "    </tr>\n",
       "  </thead>\n",
       "  <tbody>\n",
       "    <tr>\n",
       "      <th>0</th>\n",
       "      <td>0</td>\n",
       "      <td>0</td>\n",
       "      <td>9.990</td>\n",
       "      <td>11.800983</td>\n",
       "      <td>4.68</td>\n",
       "      <td>14.533088</td>\n",
       "      <td>2.626</td>\n",
       "      <td>0.192821</td>\n",
       "      <td>2.60</td>\n",
       "      <td>2.631657</td>\n",
       "      <td>...</td>\n",
       "      <td>3.744361</td>\n",
       "      <td>2.860</td>\n",
       "      <td>0.000000</td>\n",
       "      <td>2.86</td>\n",
       "      <td>2.860000</td>\n",
       "      <td>2.886</td>\n",
       "      <td>0.058138</td>\n",
       "      <td>2.86</td>\n",
       "      <td>2.886468</td>\n",
       "      <td>0</td>\n",
       "    </tr>\n",
       "    <tr>\n",
       "      <th>1</th>\n",
       "      <td>1</td>\n",
       "      <td>1</td>\n",
       "      <td>4.706</td>\n",
       "      <td>0.058138</td>\n",
       "      <td>4.68</td>\n",
       "      <td>4.706287</td>\n",
       "      <td>2.652</td>\n",
       "      <td>0.148223</td>\n",
       "      <td>2.60</td>\n",
       "      <td>2.655312</td>\n",
       "      <td>...</td>\n",
       "      <td>3.770000</td>\n",
       "      <td>2.860</td>\n",
       "      <td>0.000000</td>\n",
       "      <td>2.86</td>\n",
       "      <td>2.860000</td>\n",
       "      <td>2.860</td>\n",
       "      <td>0.000000</td>\n",
       "      <td>2.86</td>\n",
       "      <td>2.860000</td>\n",
       "      <td>0</td>\n",
       "    </tr>\n",
       "    <tr>\n",
       "      <th>2</th>\n",
       "      <td>2</td>\n",
       "      <td>2</td>\n",
       "      <td>4.706</td>\n",
       "      <td>0.058138</td>\n",
       "      <td>4.68</td>\n",
       "      <td>4.706287</td>\n",
       "      <td>2.600</td>\n",
       "      <td>0.159217</td>\n",
       "      <td>2.60</td>\n",
       "      <td>2.603897</td>\n",
       "      <td>...</td>\n",
       "      <td>3.744361</td>\n",
       "      <td>2.834</td>\n",
       "      <td>0.058138</td>\n",
       "      <td>2.86</td>\n",
       "      <td>2.834477</td>\n",
       "      <td>2.860</td>\n",
       "      <td>0.000000</td>\n",
       "      <td>2.86</td>\n",
       "      <td>2.860000</td>\n",
       "      <td>0</td>\n",
       "    </tr>\n",
       "    <tr>\n",
       "      <th>3</th>\n",
       "      <td>3</td>\n",
       "      <td>3</td>\n",
       "      <td>4.680</td>\n",
       "      <td>0.000000</td>\n",
       "      <td>4.68</td>\n",
       "      <td>4.680000</td>\n",
       "      <td>2.678</td>\n",
       "      <td>0.236157</td>\n",
       "      <td>2.60</td>\n",
       "      <td>2.686317</td>\n",
       "      <td>...</td>\n",
       "      <td>3.744361</td>\n",
       "      <td>2.834</td>\n",
       "      <td>0.058138</td>\n",
       "      <td>2.86</td>\n",
       "      <td>2.834477</td>\n",
       "      <td>2.886</td>\n",
       "      <td>0.058138</td>\n",
       "      <td>2.86</td>\n",
       "      <td>2.886468</td>\n",
       "      <td>0</td>\n",
       "    </tr>\n",
       "    <tr>\n",
       "      <th>4</th>\n",
       "      <td>4</td>\n",
       "      <td>4</td>\n",
       "      <td>4.602</td>\n",
       "      <td>0.174413</td>\n",
       "      <td>4.68</td>\n",
       "      <td>4.604643</td>\n",
       "      <td>2.704</td>\n",
       "      <td>0.266421</td>\n",
       "      <td>2.60</td>\n",
       "      <td>2.714480</td>\n",
       "      <td>...</td>\n",
       "      <td>3.718545</td>\n",
       "      <td>2.834</td>\n",
       "      <td>0.058138</td>\n",
       "      <td>2.86</td>\n",
       "      <td>2.834477</td>\n",
       "      <td>2.912</td>\n",
       "      <td>0.071204</td>\n",
       "      <td>2.86</td>\n",
       "      <td>2.912696</td>\n",
       "      <td>0</td>\n",
       "    </tr>\n",
       "    <tr>\n",
       "      <th>...</th>\n",
       "      <td>...</td>\n",
       "      <td>...</td>\n",
       "      <td>...</td>\n",
       "      <td>...</td>\n",
       "      <td>...</td>\n",
       "      <td>...</td>\n",
       "      <td>...</td>\n",
       "      <td>...</td>\n",
       "      <td>...</td>\n",
       "      <td>...</td>\n",
       "      <td>...</td>\n",
       "      <td>...</td>\n",
       "      <td>...</td>\n",
       "      <td>...</td>\n",
       "      <td>...</td>\n",
       "      <td>...</td>\n",
       "      <td>...</td>\n",
       "      <td>...</td>\n",
       "      <td>...</td>\n",
       "      <td>...</td>\n",
       "      <td>...</td>\n",
       "    </tr>\n",
       "    <tr>\n",
       "      <th>283</th>\n",
       "      <td>283</td>\n",
       "      <td>91</td>\n",
       "      <td>6.526</td>\n",
       "      <td>0.360735</td>\n",
       "      <td>6.37</td>\n",
       "      <td>6.533971</td>\n",
       "      <td>6.058</td>\n",
       "      <td>0.992608</td>\n",
       "      <td>6.11</td>\n",
       "      <td>6.122710</td>\n",
       "      <td>...</td>\n",
       "      <td>3.204968</td>\n",
       "      <td>2.548</td>\n",
       "      <td>0.148223</td>\n",
       "      <td>2.60</td>\n",
       "      <td>2.551447</td>\n",
       "      <td>3.692</td>\n",
       "      <td>0.148223</td>\n",
       "      <td>3.64</td>\n",
       "      <td>3.694380</td>\n",
       "      <td>2</td>\n",
       "    </tr>\n",
       "    <tr>\n",
       "      <th>284</th>\n",
       "      <td>284</td>\n",
       "      <td>92</td>\n",
       "      <td>6.890</td>\n",
       "      <td>0.806629</td>\n",
       "      <td>6.50</td>\n",
       "      <td>6.927671</td>\n",
       "      <td>6.630</td>\n",
       "      <td>0.806629</td>\n",
       "      <td>6.63</td>\n",
       "      <td>6.669139</td>\n",
       "      <td>...</td>\n",
       "      <td>5.423976</td>\n",
       "      <td>3.302</td>\n",
       "      <td>1.648490</td>\n",
       "      <td>2.60</td>\n",
       "      <td>3.616244</td>\n",
       "      <td>4.186</td>\n",
       "      <td>1.085325</td>\n",
       "      <td>3.77</td>\n",
       "      <td>4.297085</td>\n",
       "      <td>2</td>\n",
       "    </tr>\n",
       "    <tr>\n",
       "      <th>285</th>\n",
       "      <td>285</td>\n",
       "      <td>93</td>\n",
       "      <td>7.618</td>\n",
       "      <td>1.534330</td>\n",
       "      <td>7.15</td>\n",
       "      <td>7.740624</td>\n",
       "      <td>7.228</td>\n",
       "      <td>1.561624</td>\n",
       "      <td>7.28</td>\n",
       "      <td>7.361720</td>\n",
       "      <td>...</td>\n",
       "      <td>5.566672</td>\n",
       "      <td>3.718</td>\n",
       "      <td>1.606960</td>\n",
       "      <td>2.73</td>\n",
       "      <td>3.986149</td>\n",
       "      <td>4.498</td>\n",
       "      <td>1.113000</td>\n",
       "      <td>3.90</td>\n",
       "      <td>4.606845</td>\n",
       "      <td>2</td>\n",
       "    </tr>\n",
       "    <tr>\n",
       "      <th>286</th>\n",
       "      <td>286</td>\n",
       "      <td>94</td>\n",
       "      <td>7.930</td>\n",
       "      <td>1.573483</td>\n",
       "      <td>8.19</td>\n",
       "      <td>8.053917</td>\n",
       "      <td>7.462</td>\n",
       "      <td>1.656161</td>\n",
       "      <td>7.54</td>\n",
       "      <td>7.607611</td>\n",
       "      <td>...</td>\n",
       "      <td>5.636666</td>\n",
       "      <td>4.238</td>\n",
       "      <td>1.627857</td>\n",
       "      <td>4.42</td>\n",
       "      <td>4.481136</td>\n",
       "      <td>4.732</td>\n",
       "      <td>1.078295</td>\n",
       "      <td>5.07</td>\n",
       "      <td>4.829286</td>\n",
       "      <td>2</td>\n",
       "    </tr>\n",
       "    <tr>\n",
       "      <th>287</th>\n",
       "      <td>287</td>\n",
       "      <td>95</td>\n",
       "      <td>12.830</td>\n",
       "      <td>10.247358</td>\n",
       "      <td>8.71</td>\n",
       "      <td>15.767548</td>\n",
       "      <td>6.968</td>\n",
       "      <td>2.373346</td>\n",
       "      <td>7.54</td>\n",
       "      <td>7.284177</td>\n",
       "      <td>...</td>\n",
       "      <td>5.815230</td>\n",
       "      <td>4.394</td>\n",
       "      <td>1.460404</td>\n",
       "      <td>4.42</td>\n",
       "      <td>4.584044</td>\n",
       "      <td>5.148</td>\n",
       "      <td>0.870126</td>\n",
       "      <td>5.20</td>\n",
       "      <td>5.206496</td>\n",
       "      <td>2</td>\n",
       "    </tr>\n",
       "  </tbody>\n",
       "</table>\n",
       "<p>288 rows × 43 columns</p>\n",
       "</div>"
      ],
      "text/plain": [
       "     Unnamed: 0  index  ch1mean     ch1std  ch1median     ch1rme  ch2mean  \\\n",
       "0             0      0    9.990  11.800983       4.68  14.533088    2.626   \n",
       "1             1      1    4.706   0.058138       4.68   4.706287    2.652   \n",
       "2             2      2    4.706   0.058138       4.68   4.706287    2.600   \n",
       "3             3      3    4.680   0.000000       4.68   4.680000    2.678   \n",
       "4             4      4    4.602   0.174413       4.68   4.604643    2.704   \n",
       "..          ...    ...      ...        ...        ...        ...      ...   \n",
       "283         283     91    6.526   0.360735       6.37   6.533971    6.058   \n",
       "284         284     92    6.890   0.806629       6.50   6.927671    6.630   \n",
       "285         285     93    7.618   1.534330       7.15   7.740624    7.228   \n",
       "286         286     94    7.930   1.573483       8.19   8.053917    7.462   \n",
       "287         287     95   12.830  10.247358       8.71  15.767548    6.968   \n",
       "\n",
       "       ch2std  ch2median    ch2rme  ...    ch8rme  ch9mean    ch9std  \\\n",
       "0    0.192821       2.60  2.631657  ...  3.744361    2.860  0.000000   \n",
       "1    0.148223       2.60  2.655312  ...  3.770000    2.860  0.000000   \n",
       "2    0.159217       2.60  2.603897  ...  3.744361    2.834  0.058138   \n",
       "3    0.236157       2.60  2.686317  ...  3.744361    2.834  0.058138   \n",
       "4    0.266421       2.60  2.714480  ...  3.718545    2.834  0.058138   \n",
       "..        ...        ...       ...  ...       ...      ...       ...   \n",
       "283  0.992608       6.11  6.122710  ...  3.204968    2.548  0.148223   \n",
       "284  0.806629       6.63  6.669139  ...  5.423976    3.302  1.648490   \n",
       "285  1.561624       7.28  7.361720  ...  5.566672    3.718  1.606960   \n",
       "286  1.656161       7.54  7.607611  ...  5.636666    4.238  1.627857   \n",
       "287  2.373346       7.54  7.284177  ...  5.815230    4.394  1.460404   \n",
       "\n",
       "     ch9median    ch9rme  ch10mean   ch10std  ch10median   ch10rme  label  \n",
       "0         2.86  2.860000     2.886  0.058138        2.86  2.886468      0  \n",
       "1         2.86  2.860000     2.860  0.000000        2.86  2.860000      0  \n",
       "2         2.86  2.834477     2.860  0.000000        2.86  2.860000      0  \n",
       "3         2.86  2.834477     2.886  0.058138        2.86  2.886468      0  \n",
       "4         2.86  2.834477     2.912  0.071204        2.86  2.912696      0  \n",
       "..         ...       ...       ...       ...         ...       ...    ...  \n",
       "283       2.60  2.551447     3.692  0.148223        3.64  3.694380      2  \n",
       "284       2.60  3.616244     4.186  1.085325        3.77  4.297085      2  \n",
       "285       2.73  3.986149     4.498  1.113000        3.90  4.606845      2  \n",
       "286       4.42  4.481136     4.732  1.078295        5.07  4.829286      2  \n",
       "287       4.42  4.584044     5.148  0.870126        5.20  5.206496      2  \n",
       "\n",
       "[288 rows x 43 columns]"
      ]
     },
     "execution_count": 4,
     "metadata": {},
     "output_type": "execute_result"
    }
   ],
   "source": [
    "ftm_ind_features"
   ]
  },
  {
   "cell_type": "code",
   "execution_count": 5,
   "id": "3868db3d",
   "metadata": {},
   "outputs": [
    {
     "data": {
      "text/plain": [
       "Index(['Unnamed: 0', 'index', 'ch1mean', 'ch1std', 'ch1median', 'ch1rme',\n",
       "       'ch2mean', 'ch2std', 'ch2median', 'ch2rme', 'ch3mean', 'ch3std',\n",
       "       'ch3median', 'ch3rme', 'ch4mean', 'ch4std', 'ch4median', 'ch4rme',\n",
       "       'ch5mean', 'ch5std', 'ch5median', 'ch5rme', 'ch6mean', 'ch6std',\n",
       "       'ch6median', 'ch6rme', 'ch7mean', 'ch7std', 'ch7median', 'ch7rme',\n",
       "       'ch8mean', 'ch8std', 'ch8median', 'ch8rme', 'ch9mean', 'ch9std',\n",
       "       'ch9median', 'ch9rme', 'ch10mean', 'ch10std', 'ch10median', 'ch10rme',\n",
       "       'label'],\n",
       "      dtype='object')"
      ]
     },
     "execution_count": 5,
     "metadata": {},
     "output_type": "execute_result"
    }
   ],
   "source": [
    "ftm_ind_features.columns"
   ]
  },
  {
   "cell_type": "code",
   "execution_count": 6,
   "id": "c6af2268",
   "metadata": {},
   "outputs": [
    {
     "data": {
      "text/plain": [
       "0    96\n",
       "1    96\n",
       "2    96\n",
       "Name: label, dtype: int64"
      ]
     },
     "execution_count": 6,
     "metadata": {},
     "output_type": "execute_result"
    }
   ],
   "source": [
    "ftm_ind_features['label'].value_counts()"
   ]
  },
  {
   "cell_type": "code",
   "execution_count": 7,
   "id": "15e083e4",
   "metadata": {},
   "outputs": [],
   "source": [
    "X = ftm_ind_features.dropna()\n",
    "labels = X['label']\n",
    "# features = X[['ch2std','ch2rme','ch3mean','ch3std','ch3rme','ch4mean','ch6std','ch1std','ch1rme','ch2mean','ch4std','ch5median','ch5rme','ch6mean','ch6rme','ch7mean','ch10std']]\n",
    "# features = X[selected_features]\n",
    "# features = X[rf_selected_features]\n",
    "features = X.drop(['index','label','Unnamed: 0'], axis=1)\n",
    "features_list = np.array(features)"
   ]
  },
  {
   "cell_type": "code",
   "execution_count": 8,
   "id": "73b7d815",
   "metadata": {},
   "outputs": [],
   "source": [
    "features_label = X.drop(['index','label','Unnamed: 0'], axis=1).columns"
   ]
  },
  {
   "cell_type": "code",
   "execution_count": 9,
   "id": "c2d32cbb",
   "metadata": {},
   "outputs": [],
   "source": [
    "train_features, test_features, train_labels, test_labels = train_test_split(features_list, labels, test_size = 0.2, random_state = 42)\n"
   ]
  },
  {
   "cell_type": "code",
   "execution_count": 10,
   "id": "ecbb0ddb",
   "metadata": {},
   "outputs": [
    {
     "data": {
      "text/plain": [
       "0    80\n",
       "2    78\n",
       "1    72\n",
       "Name: label, dtype: int64"
      ]
     },
     "execution_count": 10,
     "metadata": {},
     "output_type": "execute_result"
    }
   ],
   "source": [
    "train_labels.value_counts()"
   ]
  },
  {
   "cell_type": "code",
   "execution_count": 11,
   "id": "2093342d",
   "metadata": {},
   "outputs": [
    {
     "name": "stdout",
     "output_type": "stream",
     "text": [
      "Training Features Shape: (230, 40)\n",
      "Training Labels Shape: (230,)\n",
      "Testing Features Shape: (58, 40)\n",
      "Testing Labels Shape: (58,)\n"
     ]
    }
   ],
   "source": [
    "print('Training Features Shape:', train_features.shape)\n",
    "print('Training Labels Shape:', train_labels.shape)\n",
    "print('Testing Features Shape:', test_features.shape)\n",
    "print('Testing Labels Shape:', test_labels.shape)"
   ]
  },
  {
   "cell_type": "markdown",
   "id": "02e24201",
   "metadata": {},
   "source": [
    "### RF"
   ]
  },
  {
   "cell_type": "code",
   "execution_count": 12,
   "id": "186761ff",
   "metadata": {},
   "outputs": [
    {
     "data": {
      "text/plain": [
       "RandomForestClassifier(n_estimators=1000, random_state=42)"
      ]
     },
     "execution_count": 12,
     "metadata": {},
     "output_type": "execute_result"
    }
   ],
   "source": [
    "# Instantiate model with 1000 decision trees\n",
    "rf_model = RandomForestClassifier(n_estimators = 1000, random_state = 42)\n",
    "# Train the model on training data\n",
    "rf_model.fit(train_features, train_labels)"
   ]
  },
  {
   "cell_type": "code",
   "execution_count": 13,
   "id": "5216edab",
   "metadata": {},
   "outputs": [],
   "source": [
    "# Use the forest's predict method on the test data\n",
    "rf_pred_labels = rf_model.predict(test_features)"
   ]
  },
  {
   "cell_type": "code",
   "execution_count": 14,
   "id": "de1aea61",
   "metadata": {},
   "outputs": [
    {
     "data": {
      "text/plain": [
       "SelectFromModel(estimator=RandomForestClassifier(n_estimators=1000,\n",
       "                                                 random_state=42),\n",
       "                threshold=0.02)"
      ]
     },
     "execution_count": 14,
     "metadata": {},
     "output_type": "execute_result"
    }
   ],
   "source": [
    "rf_sel = SelectFromModel(rf_model, threshold=0.02)\n",
    "rf_sel.fit(train_features, train_labels)"
   ]
  },
  {
   "cell_type": "code",
   "execution_count": 15,
   "id": "857032ec",
   "metadata": {},
   "outputs": [
    {
     "name": "stdout",
     "output_type": "stream",
     "text": [
      "('ch1mean', 0.02252876597034946)\n",
      "('ch1std', 0.008816863417177865)\n",
      "('ch1median', 0.016181387247900053)\n",
      "('ch1rme', 0.02398569605738121)\n",
      "('ch2mean', 0.0617214495653325)\n",
      "('ch2std', 0.0074172957750505124)\n",
      "('ch2median', 0.07201538382309128)\n",
      "('ch2rme', 0.06411716643292106)\n",
      "('ch3mean', 0.05622872258246699)\n",
      "('ch3std', 0.026913449814663377)\n",
      "('ch3median', 0.06475987432077943)\n",
      "('ch3rme', 0.05891561093398433)\n",
      "('ch4mean', 0.025321083838861093)\n",
      "('ch4std', 0.01014548596662773)\n",
      "('ch4median', 0.01438316967866076)\n",
      "('ch4rme', 0.029491906272851146)\n",
      "('ch5mean', 0.021696218277039027)\n",
      "('ch5std', 0.015070062687097596)\n",
      "('ch5median', 0.025819321891242624)\n",
      "('ch5rme', 0.02496659549576129)\n",
      "('ch6mean', 0.049944506305798685)\n",
      "('ch6std', 0.005200175177235987)\n",
      "('ch6median', 0.03841044194366214)\n",
      "('ch6rme', 0.046215695638202665)\n",
      "('ch7mean', 0.006477888822995188)\n",
      "('ch7std', 0.004585436516856978)\n",
      "('ch7median', 0.004976493200220484)\n",
      "('ch7rme', 0.01015269984635203)\n",
      "('ch8mean', 0.0067805139500356024)\n",
      "('ch8std', 0.007913920341432493)\n",
      "('ch8median', 0.005882182737778338)\n",
      "('ch8rme', 0.012781534043890092)\n",
      "('ch9mean', 0.013856725179254865)\n",
      "('ch9std', 0.012023823054286864)\n",
      "('ch9median', 0.01575867741415839)\n",
      "('ch9rme', 0.0122409864085909)\n",
      "('ch10mean', 0.02938421271762112)\n",
      "('ch10std', 0.011205680404597945)\n",
      "('ch10median', 0.02205847779356838)\n",
      "('ch10rme', 0.0336544184542215)\n"
     ]
    }
   ],
   "source": [
    "# Print the name and gini importance of each feature\n",
    "for feature in zip(features_label, rf_model.feature_importances_):\n",
    "    print(feature)"
   ]
  },
  {
   "cell_type": "code",
   "execution_count": 16,
   "id": "cd91dfc5",
   "metadata": {},
   "outputs": [],
   "source": [
    "rf_selected_features = features_label[rf_sel.get_support(indices=True)]"
   ]
  },
  {
   "cell_type": "code",
   "execution_count": 17,
   "id": "0f8b1200",
   "metadata": {},
   "outputs": [
    {
     "data": {
      "text/plain": [
       "Index(['ch1mean', 'ch1std', 'ch1median', 'ch1rme', 'ch2mean', 'ch2std',\n",
       "       'ch2median', 'ch2rme', 'ch3mean', 'ch3std', 'ch3median', 'ch3rme',\n",
       "       'ch4mean', 'ch4std', 'ch4median', 'ch4rme', 'ch5mean', 'ch5std',\n",
       "       'ch5median', 'ch5rme', 'ch6mean', 'ch6std', 'ch6median', 'ch6rme',\n",
       "       'ch7mean', 'ch7std', 'ch7median', 'ch7rme', 'ch8mean', 'ch8std',\n",
       "       'ch8median', 'ch8rme', 'ch9mean', 'ch9std', 'ch9median', 'ch9rme',\n",
       "       'ch10mean', 'ch10std', 'ch10median', 'ch10rme'],\n",
       "      dtype='object')"
      ]
     },
     "execution_count": 17,
     "metadata": {},
     "output_type": "execute_result"
    }
   ],
   "source": [
    "features_label"
   ]
  },
  {
   "cell_type": "code",
   "execution_count": 18,
   "id": "b5f10eb1",
   "metadata": {},
   "outputs": [
    {
     "name": "stdout",
     "output_type": "stream",
     "text": [
      "ch1mean\n",
      "ch1rme\n",
      "ch2mean\n",
      "ch2median\n",
      "ch2rme\n",
      "ch3mean\n",
      "ch3std\n",
      "ch3median\n",
      "ch3rme\n",
      "ch4mean\n",
      "ch4rme\n",
      "ch5mean\n",
      "ch5median\n",
      "ch5rme\n",
      "ch6mean\n",
      "ch6median\n",
      "ch6rme\n",
      "ch10mean\n",
      "ch10median\n",
      "ch10rme\n"
     ]
    }
   ],
   "source": [
    "for feature_list_index in rf_sel.get_support(indices=True):\n",
    "#     print(feature_list_index)\n",
    "    print(features_label[feature_list_index])"
   ]
  },
  {
   "cell_type": "code",
   "execution_count": 21,
   "id": "39d72b44",
   "metadata": {},
   "outputs": [],
   "source": [
    "confusion_matrix(test_labels, rf_pred_labels, labels=[0, 1, 2])\n",
    "accuracy = accuracy_score(test_labels, rf_pred_labels)\n",
    "recall = recall_score(test_labels, rf_pred_labels, average='weighted' )\n",
    "precision = precision_score(test_labels, rf_pred_labels, average='weighted')\n",
    "F1 = f1_score(test_labels, rf_pred_labels, average='weighted' )"
   ]
  },
  {
   "cell_type": "code",
   "execution_count": 22,
   "id": "2d0f40f7",
   "metadata": {},
   "outputs": [
    {
     "data": {
      "text/plain": [
       "array([[16,  0,  0],\n",
       "       [ 0, 23,  1],\n",
       "       [ 0,  0, 18]])"
      ]
     },
     "execution_count": 22,
     "metadata": {},
     "output_type": "execute_result"
    }
   ],
   "source": [
    "confusion_matrix(test_labels, rf_pred_labels, labels=[0, 1, 2])"
   ]
  },
  {
   "cell_type": "code",
   "execution_count": 23,
   "id": "d2c2160b",
   "metadata": {},
   "outputs": [
    {
     "data": {
      "text/plain": [
       "0.9828081933731238"
      ]
     },
     "execution_count": 23,
     "metadata": {},
     "output_type": "execute_result"
    }
   ],
   "source": [
    "F1"
   ]
  },
  {
   "cell_type": "code",
   "execution_count": 24,
   "id": "b0dedabf",
   "metadata": {},
   "outputs": [
    {
     "data": {
      "text/plain": [
       "0.9827586206896551"
      ]
     },
     "execution_count": 24,
     "metadata": {},
     "output_type": "execute_result"
    }
   ],
   "source": [
    "accuracy"
   ]
  },
  {
   "cell_type": "code",
   "execution_count": 25,
   "id": "f8379d50",
   "metadata": {},
   "outputs": [
    {
     "name": "stderr",
     "output_type": "stream",
     "text": [
      "/Library/Frameworks/Python.framework/Versions/3.10/lib/python3.10/site-packages/sklearn/utils/deprecation.py:87: FutureWarning: Function plot_confusion_matrix is deprecated; Function `plot_confusion_matrix` is deprecated in 1.0 and will be removed in 1.2. Use one of the class methods: ConfusionMatrixDisplay.from_predictions or ConfusionMatrixDisplay.from_estimator.\n",
      "  warnings.warn(msg, category=FutureWarning)\n"
     ]
    },
    {
     "data": {
      "image/png": "[encoded data removed]",
      "text/plain": [
       "<Figure size 432x288 with 2 Axes>"
      ]
     },
     "metadata": {
      "needs_background": "light"
     },
     "output_type": "display_data"
    }
   ],
   "source": [
    "plot_confusion_matrix(rf_model, test_features, test_labels)  \n",
    "plt.show()"
   ]
  },
  {
   "cell_type": "markdown",
   "id": "0c517d89",
   "metadata": {},
   "source": [
    "### KNN"
   ]
  },
  {
   "cell_type": "code",
   "execution_count": 27,
   "id": "94ee5c8a",
   "metadata": {},
   "outputs": [
    {
     "data": {
      "text/plain": [
       "KNeighborsClassifier()"
      ]
     },
     "execution_count": 27,
     "metadata": {},
     "output_type": "execute_result"
    }
   ],
   "source": [
    "knn_model = KNeighborsClassifier(n_neighbors=5)\n",
    "knn_model.fit(train_features, train_labels)"
   ]
  },
  {
   "cell_type": "code",
   "execution_count": 28,
   "id": "7da52d0c",
   "metadata": {},
   "outputs": [],
   "source": [
    "knn_pred_labels = knn_model.predict(test_features)"
   ]
  },
  {
   "cell_type": "code",
   "execution_count": 29,
   "id": "d8707d02",
   "metadata": {},
   "outputs": [
    {
     "data": {
      "text/plain": [
       "SelectFromModel(estimator=KNeighborsClassifier(), threshold=0.02)"
      ]
     },
     "execution_count": 29,
     "metadata": {},
     "output_type": "execute_result"
    }
   ],
   "source": [
    "knn_sel = SelectFromModel(knn_model, threshold=0.02)\n",
    "knn_sel.fit(train_features, train_labels)"
   ]
  },
  {
   "cell_type": "code",
   "execution_count": 30,
   "id": "991c4bd9",
   "metadata": {},
   "outputs": [
    {
     "name": "stdout",
     "output_type": "stream",
     "text": [
      "('ch1mean', 0.00260869565217392)\n",
      "('ch1std', 0.004347826086956519)\n",
      "('ch1median', 0.0)\n",
      "('ch1rme', 0.00956521739130436)\n",
      "('ch2mean', 0.0008695652173912993)\n",
      "('ch2std', 0.0)\n",
      "('ch2median', 0.0008695652173912993)\n",
      "('ch2rme', 0.0008695652173912993)\n",
      "('ch3mean', 0.01043478260869568)\n",
      "('ch3std', 0.0)\n",
      "('ch3median', 0.013043478260869578)\n",
      "('ch3rme', 0.01043478260869568)\n",
      "('ch4mean', 0.0008695652173913215)\n",
      "('ch4std', 0.0)\n",
      "('ch4median', 0.0)\n",
      "('ch4rme', -0.0008695652173912993)\n",
      "('ch5mean', 0.00521739130434784)\n",
      "('ch5std', 0.0017391304347825986)\n",
      "('ch5median', 0.0008695652173912993)\n",
      "('ch5rme', 0.00521739130434784)\n",
      "('ch6mean', 0.006956521739130461)\n",
      "('ch6std', 0.0)\n",
      "('ch6median', 0.009565217391304382)\n",
      "('ch6rme', 0.00608695652173914)\n",
      "('ch7mean', 0.0008695652173912993)\n",
      "('ch7std', 0.0017391304347825986)\n",
      "('ch7median', 0.00260869565217392)\n",
      "('ch7rme', 0.002608695652173898)\n",
      "('ch8mean', 0.002608695652173898)\n",
      "('ch8std', 0.0008695652173912993)\n",
      "('ch8median', 0.0017391304347825986)\n",
      "('ch8rme', 0.0)\n",
      "('ch9mean', 0.00260869565217392)\n",
      "('ch9std', 0.0)\n",
      "('ch9median', 0.002608695652173898)\n",
      "('ch9rme', 0.00869565217391306)\n",
      "('ch10mean', 0.002608695652173898)\n",
      "('ch10std', 0.003478260869565197)\n",
      "('ch10median', 0.005217391304347863)\n",
      "('ch10rme', 0.0017391304347825986)\n"
     ]
    }
   ],
   "source": [
    "knn_feature_importance = permutation_importance(knn_model, train_features, train_labels, scoring='accuracy').importances_mean\n",
    "\n",
    "for feature in zip(features_label, knn_feature_importance):\n",
    "    print(feature)"
   ]
  },
  {
   "cell_type": "code",
   "execution_count": 31,
   "id": "4f3dc565",
   "metadata": {},
   "outputs": [
    {
     "ename": "NameError",
     "evalue": "name 'importance' is not defined",
     "output_type": "error",
     "traceback": [
      "\u001b[0;31m---------------------------------------------------------------------------\u001b[0m",
      "\u001b[0;31mNameError\u001b[0m                                 Traceback (most recent call last)",
      "\u001b[0;32m/var/folders/66/mfk28_pn1934k74x619jkgz40000gn/T/ipykernel_1528/1048791217.py\u001b[0m in \u001b[0;36m<module>\u001b[0;34m\u001b[0m\n\u001b[1;32m      1\u001b[0m \u001b[0;32mfrom\u001b[0m \u001b[0mmatplotlib\u001b[0m \u001b[0;32mimport\u001b[0m \u001b[0mpyplot\u001b[0m\u001b[0;34m\u001b[0m\u001b[0;34m\u001b[0m\u001b[0m\n\u001b[0;32m----> 2\u001b[0;31m \u001b[0mpyplot\u001b[0m\u001b[0;34m.\u001b[0m\u001b[0mbar\u001b[0m\u001b[0;34m(\u001b[0m\u001b[0;34m[\u001b[0m\u001b[0mx\u001b[0m \u001b[0;32mfor\u001b[0m \u001b[0mx\u001b[0m \u001b[0;32min\u001b[0m \u001b[0mrange\u001b[0m\u001b[0;34m(\u001b[0m\u001b[0mlen\u001b[0m\u001b[0;34m(\u001b[0m\u001b[0mimportance\u001b[0m\u001b[0;34m)\u001b[0m\u001b[0;34m)\u001b[0m\u001b[0;34m]\u001b[0m\u001b[0;34m,\u001b[0m \u001b[0mimportance\u001b[0m\u001b[0;34m)\u001b[0m\u001b[0;34m\u001b[0m\u001b[0;34m\u001b[0m\u001b[0m\n\u001b[0m\u001b[1;32m      3\u001b[0m \u001b[0mpyplot\u001b[0m\u001b[0;34m.\u001b[0m\u001b[0mshow\u001b[0m\u001b[0;34m(\u001b[0m\u001b[0;34m)\u001b[0m\u001b[0;34m\u001b[0m\u001b[0;34m\u001b[0m\u001b[0m\n",
      "\u001b[0;31mNameError\u001b[0m: name 'importance' is not defined"
     ]
    }
   ],
   "source": [
    "from matplotlib import pyplot\n",
    "pyplot.bar([x for x in range(len(importance))], importance)\n",
    "pyplot.show()"
   ]
  },
  {
   "cell_type": "code",
   "execution_count": 87,
   "id": "69efdf3c",
   "metadata": {},
   "outputs": [],
   "source": [
    "# knn_selected_features = features_label[knn_sel.get_support(indices=True)]"
   ]
  },
  {
   "cell_type": "code",
   "execution_count": 32,
   "id": "79a01703",
   "metadata": {},
   "outputs": [
    {
     "data": {
      "text/plain": [
       "array([[16,  0,  0],\n",
       "       [ 0, 24,  0],\n",
       "       [ 0,  1, 17]])"
      ]
     },
     "execution_count": 32,
     "metadata": {},
     "output_type": "execute_result"
    }
   ],
   "source": [
    "confusion_matrix(test_labels, knn_pred_labels, labels=[0, 1, 2])"
   ]
  },
  {
   "cell_type": "code",
   "execution_count": 33,
   "id": "620fd5d0",
   "metadata": {},
   "outputs": [],
   "source": [
    "accuracy = accuracy_score(test_labels, knn_pred_labels)\n",
    "recall = recall_score(test_labels, knn_pred_labels, average='weighted' )\n",
    "precision = precision_score(test_labels, knn_pred_labels, average='weighted')\n",
    "F1 = f1_score(test_labels, knn_pred_labels, average='weighted' )"
   ]
  },
  {
   "cell_type": "code",
   "execution_count": 34,
   "id": "79cb97dd",
   "metadata": {},
   "outputs": [
    {
     "data": {
      "text/plain": [
       "0.9827586206896551"
      ]
     },
     "execution_count": 34,
     "metadata": {},
     "output_type": "execute_result"
    }
   ],
   "source": [
    "accuracy"
   ]
  },
  {
   "cell_type": "code",
   "execution_count": 35,
   "id": "8a0f4d0f",
   "metadata": {},
   "outputs": [
    {
     "data": {
      "text/plain": [
       "0.9826882477128781"
      ]
     },
     "execution_count": 35,
     "metadata": {},
     "output_type": "execute_result"
    }
   ],
   "source": [
    "F1"
   ]
  },
  {
   "cell_type": "code",
   "execution_count": 36,
   "id": "7b1a54e2",
   "metadata": {},
   "outputs": [
    {
     "name": "stderr",
     "output_type": "stream",
     "text": [
      "/Library/Frameworks/Python.framework/Versions/3.10/lib/python3.10/site-packages/sklearn/utils/deprecation.py:87: FutureWarning: Function plot_confusion_matrix is deprecated; Function `plot_confusion_matrix` is deprecated in 1.0 and will be removed in 1.2. Use one of the class methods: ConfusionMatrixDisplay.from_predictions or ConfusionMatrixDisplay.from_estimator.\n",
      "  warnings.warn(msg, category=FutureWarning)\n"
     ]
    },
    {
     "data": {
      "image/png": "[encoded data removed]",
      "text/plain": [
       "<Figure size 432x288 with 2 Axes>"
      ]
     },
     "metadata": {
      "needs_background": "light"
     },
     "output_type": "display_data"
    }
   ],
   "source": [
    "plot_confusion_matrix(knn_model, test_features, test_labels)  \n",
    "plt.show()"
   ]
  },
  {
   "cell_type": "markdown",
   "id": "9983af85",
   "metadata": {},
   "source": [
    "### GB"
   ]
  },
  {
   "cell_type": "code",
   "execution_count": 37,
   "id": "80b752d0",
   "metadata": {},
   "outputs": [
    {
     "data": {
      "text/plain": [
       "XGBClassifier(base_score=0.5, booster='gbtree', callbacks=None,\n",
       "              colsample_bylevel=1, colsample_bynode=1, colsample_bytree=1,\n",
       "              early_stopping_rounds=None, enable_categorical=False,\n",
       "              eval_metric=None, gamma=0, gpu_id=-1, grow_policy='depthwise',\n",
       "              importance_type=None, interaction_constraints='',\n",
       "              learning_rate=0.1, max_bin=256, max_cat_to_onehot=4,\n",
       "              max_delta_step=0, max_depth=5, max_leaves=0, min_child_weight=1,\n",
       "              missing=nan, monotone_constraints='()', n_estimators=160,\n",
       "              n_jobs=0, num_parallel_tree=1, objective='multi:softprob',\n",
       "              predictor='auto', random_state=2022, reg_alpha=0, ...)"
      ]
     },
     "execution_count": 37,
     "metadata": {},
     "output_type": "execute_result"
    }
   ],
   "source": [
    "xgb_model = xgb.XGBClassifier(max_depth=5, learning_rate=0.1, n_estimators=160, objective='multi:softprob', random_state = 2022, verbosity = 0, silent=True)\n",
    "xgb_model.fit(train_features, train_labels)"
   ]
  },
  {
   "cell_type": "code",
   "execution_count": 38,
   "id": "aac26e3b",
   "metadata": {},
   "outputs": [],
   "source": [
    "xgb_pred_labels = xgb_model.predict(test_features)"
   ]
  },
  {
   "cell_type": "code",
   "execution_count": 39,
   "id": "94a6d0ec",
   "metadata": {},
   "outputs": [
    {
     "data": {
      "text/plain": [
       "SelectFromModel(estimator=XGBClassifier(base_score=0.5, booster='gbtree',\n",
       "                                        callbacks=None, colsample_bylevel=1,\n",
       "                                        colsample_bynode=1, colsample_bytree=1,\n",
       "                                        early_stopping_rounds=None,\n",
       "                                        enable_categorical=False,\n",
       "                                        eval_metric=None, gamma=0, gpu_id=-1,\n",
       "                                        grow_policy='depthwise',\n",
       "                                        importance_type=None,\n",
       "                                        interaction_constraints='',\n",
       "                                        learning_rate=0.1, max_bin=256,\n",
       "                                        max_cat_to_onehot=4, max_delta_step=0,\n",
       "                                        max_depth=5, max_leaves=0,\n",
       "                                        min_child_weight=1, missing=nan,\n",
       "                                        monotone_constraints='()',\n",
       "                                        n_estimators=160, n_jobs=0,\n",
       "                                        num_parallel_tree=1,\n",
       "                                        objective='multi:softprob',\n",
       "                                        predictor='auto', random_state=2022,\n",
       "                                        reg_alpha=0, ...),\n",
       "                threshold=0.02)"
      ]
     },
     "execution_count": 39,
     "metadata": {},
     "output_type": "execute_result"
    }
   ],
   "source": [
    "xgb_sel = SelectFromModel(xgb_model, threshold=0.02)\n",
    "xgb_sel.fit(train_features, train_labels)"
   ]
  },
  {
   "cell_type": "code",
   "execution_count": 40,
   "id": "886724bc",
   "metadata": {},
   "outputs": [
    {
     "name": "stdout",
     "output_type": "stream",
     "text": [
      "('ch1mean', 0.03116571)\n",
      "('ch1std', 0.009969647)\n",
      "('ch1median', 0.005639886)\n",
      "('ch1rme', 0.0010200945)\n",
      "('ch2mean', 0.2647309)\n",
      "('ch2std', 0.0051231654)\n",
      "('ch2median', 0.20310372)\n",
      "('ch2rme', 0.00585186)\n",
      "('ch3mean', 0.0057707424)\n",
      "('ch3std', 0.019542467)\n",
      "('ch3median', 0.002348312)\n",
      "('ch3rme', 0.0010224964)\n",
      "('ch4mean', 0.0025763307)\n",
      "('ch4std', 0.008770349)\n",
      "('ch4median', 0.004142136)\n",
      "('ch4rme', 0.0009658978)\n",
      "('ch5mean', 0.005824815)\n",
      "('ch5std', 0.037589386)\n",
      "('ch5median', 0.096428744)\n",
      "('ch5rme', 0.003870995)\n",
      "('ch6mean', 0.056388594)\n",
      "('ch6std', 0.008039948)\n",
      "('ch6median', 0.0073372857)\n",
      "('ch6rme', 0.0050307056)\n",
      "('ch7mean', 0.0)\n",
      "('ch7std', 0.0014368135)\n",
      "('ch7median', 0.00061021955)\n",
      "('ch7rme', 0.0019303052)\n",
      "('ch8mean', 0.013331831)\n",
      "('ch8std', 0.00603256)\n",
      "('ch8median', 0.0058902637)\n",
      "('ch8rme', 0.0012136893)\n",
      "('ch9mean', 0.13235974)\n",
      "('ch9std', 0.0055147125)\n",
      "('ch9median', 0.022963174)\n",
      "('ch9rme', 0.0028082419)\n",
      "('ch10mean', 0.008461942)\n",
      "('ch10std', 0.004535417)\n",
      "('ch10median', 1.7004868e-05)\n",
      "('ch10rme', 0.0006398839)\n"
     ]
    }
   ],
   "source": [
    "# Print the name and gini importance of each feature\n",
    "for feature in zip(features_label, xgb_model.feature_importances_):\n",
    "    print(feature)"
   ]
  },
  {
   "cell_type": "code",
   "execution_count": 41,
   "id": "6b809359",
   "metadata": {},
   "outputs": [],
   "source": [
    "xgb_selected_features = features_label[xgb_sel.get_support(indices=True)]"
   ]
  },
  {
   "cell_type": "code",
   "execution_count": 42,
   "id": "5b7fa82c",
   "metadata": {},
   "outputs": [
    {
     "name": "stdout",
     "output_type": "stream",
     "text": [
      "ch1mean\n",
      "ch2mean\n",
      "ch2median\n",
      "ch5std\n",
      "ch5median\n",
      "ch6mean\n",
      "ch9mean\n",
      "ch9median\n"
     ]
    }
   ],
   "source": [
    "for feature_list_index in xgb_sel.get_support(indices=True):\n",
    "    print(str(features_label[feature_list_index]))"
   ]
  },
  {
   "cell_type": "code",
   "execution_count": 43,
   "id": "722a6d37",
   "metadata": {},
   "outputs": [
    {
     "data": {
      "text/plain": [
       "array([[16,  0,  0],\n",
       "       [ 0, 23,  1],\n",
       "       [ 0,  2, 16]])"
      ]
     },
     "execution_count": 43,
     "metadata": {},
     "output_type": "execute_result"
    }
   ],
   "source": [
    "confusion_matrix(test_labels, xgb_pred_labels, labels=[0, 1, 2])"
   ]
  },
  {
   "cell_type": "code",
   "execution_count": 44,
   "id": "79ad8f92",
   "metadata": {},
   "outputs": [],
   "source": [
    "accuracy = accuracy_score(test_labels, xgb_pred_labels)\n",
    "recall = recall_score(test_labels, xgb_pred_labels, average='weighted' )\n",
    "precision = precision_score(test_labels, xgb_pred_labels, average='weighted')\n",
    "F1 = f1_score(test_labels, xgb_pred_labels, average='weighted' )"
   ]
  },
  {
   "cell_type": "code",
   "execution_count": 101,
   "id": "a7369664",
   "metadata": {},
   "outputs": [
    {
     "data": {
      "text/plain": [
       "0.9482758620689655"
      ]
     },
     "execution_count": 101,
     "metadata": {},
     "output_type": "execute_result"
    }
   ],
   "source": [
    "accuracy"
   ]
  },
  {
   "cell_type": "code",
   "execution_count": 102,
   "id": "c2b9e34f",
   "metadata": {},
   "outputs": [
    {
     "data": {
      "text/plain": [
       "0.9480647431386348"
      ]
     },
     "execution_count": 102,
     "metadata": {},
     "output_type": "execute_result"
    }
   ],
   "source": [
    "F1"
   ]
  },
  {
   "cell_type": "code",
   "execution_count": 103,
   "id": "859a339f",
   "metadata": {},
   "outputs": [
    {
     "data": {
      "image/png": "[encoded data removed]",
      "text/plain": [
       "<Figure size 432x288 with 2 Axes>"
      ]
     },
     "metadata": {
      "needs_background": "light"
     },
     "output_type": "display_data"
    }
   ],
   "source": [
    "plot_confusion_matrix(xgb_model, test_features, test_labels)  \n",
    "plt.show()"
   ]
  },
  {
   "cell_type": "markdown",
   "id": "1bdf33a3",
   "metadata": {},
   "source": [
    "### LR"
   ]
  },
  {
   "cell_type": "code",
   "execution_count": 104,
   "id": "36483716",
   "metadata": {},
   "outputs": [
    {
     "name": "stderr",
     "output_type": "stream",
     "text": [
      "C:\\Users\\fatem\\anaconda3\\lib\\site-packages\\sklearn\\linear_model\\_logistic.py:763: ConvergenceWarning: lbfgs failed to converge (status=1):\n",
      "STOP: TOTAL NO. of ITERATIONS REACHED LIMIT.\n",
      "\n",
      "Increase the number of iterations (max_iter) or scale the data as shown in:\n",
      "    https://scikit-learn.org/stable/modules/preprocessing.html\n",
      "Please also refer to the documentation for alternative solver options:\n",
      "    https://scikit-learn.org/stable/modules/linear_model.html#logistic-regression\n",
      "  n_iter_i = _check_optimize_result(\n"
     ]
    },
    {
     "data": {
      "text/plain": [
       "LogisticRegression(random_state=2022)"
      ]
     },
     "execution_count": 104,
     "metadata": {},
     "output_type": "execute_result"
    }
   ],
   "source": [
    "lr_model = LogisticRegression(random_state=2022)\n",
    "lr_model.fit(train_features, train_labels)\n"
   ]
  },
  {
   "cell_type": "code",
   "execution_count": 105,
   "id": "fcd2ad74",
   "metadata": {},
   "outputs": [],
   "source": [
    "lr_pred_labels = lr_model.predict(test_features)"
   ]
  },
  {
   "cell_type": "code",
   "execution_count": 106,
   "id": "ba84d095",
   "metadata": {},
   "outputs": [
    {
     "data": {
      "text/plain": [
       "array([[16,  0,  0],\n",
       "       [ 0, 24,  0],\n",
       "       [ 0,  2, 16]], dtype=int64)"
      ]
     },
     "execution_count": 106,
     "metadata": {},
     "output_type": "execute_result"
    }
   ],
   "source": [
    "confusion_matrix(test_labels, lr_pred_labels, labels=[0, 1, 2])"
   ]
  },
  {
   "cell_type": "code",
   "execution_count": 107,
   "id": "ca045bff",
   "metadata": {},
   "outputs": [],
   "source": [
    "accuracy = accuracy_score(test_labels, lr_pred_labels)\n",
    "recall = recall_score(test_labels, lr_pred_labels, average='weighted' )\n",
    "precision = precision_score(test_labels, lr_pred_labels, average='weighted')\n",
    "F1 = f1_score(test_labels, lr_pred_labels, average='weighted' )"
   ]
  },
  {
   "cell_type": "code",
   "execution_count": 108,
   "id": "a84d8f66",
   "metadata": {},
   "outputs": [
    {
     "data": {
      "text/plain": [
       "0.9655172413793104"
      ]
     },
     "execution_count": 108,
     "metadata": {},
     "output_type": "execute_result"
    }
   ],
   "source": [
    "accuracy"
   ]
  },
  {
   "cell_type": "code",
   "execution_count": 109,
   "id": "00e0dfdb",
   "metadata": {},
   "outputs": [
    {
     "data": {
      "text/plain": [
       "0.9651926977687627"
      ]
     },
     "execution_count": 109,
     "metadata": {},
     "output_type": "execute_result"
    }
   ],
   "source": [
    "F1"
   ]
  },
  {
   "cell_type": "code",
   "execution_count": 110,
   "id": "c2341be0",
   "metadata": {},
   "outputs": [
    {
     "data": {
      "image/png": "[encoded data removed]",
      "text/plain": [
       "<Figure size 432x288 with 2 Axes>"
      ]
     },
     "metadata": {
      "needs_background": "light"
     },
     "output_type": "display_data"
    }
   ],
   "source": [
    "plot_confusion_matrix(lr_model, test_features, test_labels)  \n",
    "plt.show()"
   ]
  },
  {
   "cell_type": "markdown",
   "id": "b128cf64",
   "metadata": {},
   "source": [
    "### SVM"
   ]
  },
  {
   "cell_type": "code",
   "execution_count": 125,
   "id": "133e66bb",
   "metadata": {},
   "outputs": [
    {
     "data": {
      "text/plain": [
       "SVC(random_state=2022)"
      ]
     },
     "execution_count": 125,
     "metadata": {},
     "output_type": "execute_result"
    }
   ],
   "source": [
    "svm_model = svm.SVC(decision_function_shape='ovr', random_state = 2022)\n",
    "svm_model.fit(train_features, train_labels)\n",
    "\n",
    "# lin_clf = svm.LinearSVC()\n",
    "# lin_clf.fit(train_features, train_labels)"
   ]
  },
  {
   "cell_type": "code",
   "execution_count": 126,
   "id": "50cd19fc",
   "metadata": {},
   "outputs": [],
   "source": [
    "svm_pred_labels = svm_model.predict(test_features)\n"
   ]
  },
  {
   "cell_type": "code",
   "execution_count": 153,
   "id": "5f6f00ba",
   "metadata": {},
   "outputs": [
    {
     "ename": "NotFittedError",
     "evalue": "Since 'prefit=True', call transform directly",
     "output_type": "error",
     "traceback": [
      "\u001b[1;31m---------------------------------------------------------------------------\u001b[0m",
      "\u001b[1;31mNotFittedError\u001b[0m                            Traceback (most recent call last)",
      "\u001b[1;32m~\\AppData\\Local\\Temp/ipykernel_20260/607175404.py\u001b[0m in \u001b[0;36m<module>\u001b[1;34m\u001b[0m\n\u001b[0;32m      1\u001b[0m \u001b[0msvm_sel\u001b[0m \u001b[1;33m=\u001b[0m \u001b[0mSelectFromModel\u001b[0m\u001b[1;33m(\u001b[0m\u001b[0msvm_pred_labels\u001b[0m\u001b[1;33m,\u001b[0m \u001b[0mprefit\u001b[0m\u001b[1;33m=\u001b[0m\u001b[1;32mTrue\u001b[0m\u001b[1;33m)\u001b[0m\u001b[1;33m\u001b[0m\u001b[1;33m\u001b[0m\u001b[0m\n\u001b[1;32m----> 2\u001b[1;33m \u001b[0msvm_sel\u001b[0m\u001b[1;33m.\u001b[0m\u001b[0mfit\u001b[0m\u001b[1;33m(\u001b[0m\u001b[0mtrain_features\u001b[0m\u001b[1;33m,\u001b[0m \u001b[0mtrain_labels\u001b[0m\u001b[1;33m)\u001b[0m\u001b[1;33m\u001b[0m\u001b[1;33m\u001b[0m\u001b[0m\n\u001b[0m",
      "\u001b[1;32m~\\anaconda3\\lib\\site-packages\\sklearn\\feature_selection\\_from_model.py\u001b[0m in \u001b[0;36mfit\u001b[1;34m(self, X, y, **fit_params)\u001b[0m\n\u001b[0;32m    230\u001b[0m \u001b[1;33m\u001b[0m\u001b[0m\n\u001b[0;32m    231\u001b[0m         \u001b[1;32mif\u001b[0m \u001b[0mself\u001b[0m\u001b[1;33m.\u001b[0m\u001b[0mprefit\u001b[0m\u001b[1;33m:\u001b[0m\u001b[1;33m\u001b[0m\u001b[1;33m\u001b[0m\u001b[0m\n\u001b[1;32m--> 232\u001b[1;33m             raise NotFittedError(\n\u001b[0m\u001b[0;32m    233\u001b[0m                 \"Since 'prefit=True', call transform directly\")\n\u001b[0;32m    234\u001b[0m         \u001b[0mself\u001b[0m\u001b[1;33m.\u001b[0m\u001b[0mestimator_\u001b[0m \u001b[1;33m=\u001b[0m \u001b[0mclone\u001b[0m\u001b[1;33m(\u001b[0m\u001b[0mself\u001b[0m\u001b[1;33m.\u001b[0m\u001b[0mestimator\u001b[0m\u001b[1;33m)\u001b[0m\u001b[1;33m\u001b[0m\u001b[1;33m\u001b[0m\u001b[0m\n",
      "\u001b[1;31mNotFittedError\u001b[0m: Since 'prefit=True', call transform directly"
     ]
    }
   ],
   "source": [
    "svm_sel = SelectFromModel(svm_pred_labels, prefit=True)\n",
    "svm_sel.fit(train_features, train_labels)"
   ]
  },
  {
   "cell_type": "code",
   "execution_count": null,
   "id": "f25d0dc2",
   "metadata": {},
   "outputs": [],
   "source": [
    "svm_selected_features = features_label[svm_sel.get_support(indices=True)]"
   ]
  },
  {
   "cell_type": "code",
   "execution_count": 127,
   "id": "a13a38e3",
   "metadata": {},
   "outputs": [
    {
     "data": {
      "text/plain": [
       "array([[16,  0,  0],\n",
       "       [ 0, 24,  0],\n",
       "       [ 0,  5, 13]], dtype=int64)"
      ]
     },
     "execution_count": 127,
     "metadata": {},
     "output_type": "execute_result"
    }
   ],
   "source": [
    "confusion_matrix(test_labels, svm_pred_labels, labels=[0, 1, 2])"
   ]
  },
  {
   "cell_type": "code",
   "execution_count": 128,
   "id": "6ef0fae5",
   "metadata": {},
   "outputs": [],
   "source": [
    "accuracy = accuracy_score(test_labels, svm_pred_labels)\n",
    "recall = recall_score(test_labels, svm_pred_labels, average='weighted' )\n",
    "precision = precision_score(test_labels, svm_pred_labels, average='weighted')\n",
    "F1 = f1_score(test_labels, svm_pred_labels, average='weighted' )"
   ]
  },
  {
   "cell_type": "code",
   "execution_count": 129,
   "id": "21997c91",
   "metadata": {},
   "outputs": [
    {
     "data": {
      "text/plain": [
       "0.9137931034482759"
      ]
     },
     "execution_count": 129,
     "metadata": {},
     "output_type": "execute_result"
    }
   ],
   "source": [
    "accuracy"
   ]
  },
  {
   "cell_type": "code",
   "execution_count": 130,
   "id": "26a57a8f",
   "metadata": {},
   "outputs": [
    {
     "data": {
      "text/plain": [
       "0.9109072974164165"
      ]
     },
     "execution_count": 130,
     "metadata": {},
     "output_type": "execute_result"
    }
   ],
   "source": [
    "F1"
   ]
  },
  {
   "cell_type": "code",
   "execution_count": 131,
   "id": "8b433567",
   "metadata": {},
   "outputs": [
    {
     "data": {
      "image/png": "[encoded data removed]",
      "text/plain": [
       "<Figure size 432x288 with 2 Axes>"
      ]
     },
     "metadata": {
      "needs_background": "light"
     },
     "output_type": "display_data"
    }
   ],
   "source": [
    "plot_confusion_matrix(svm_model, test_features, test_labels)  \n",
    "plt.show()"
   ]
  },
  {
   "cell_type": "code",
   "execution_count": null,
   "id": "a845da8c",
   "metadata": {},
   "outputs": [],
   "source": []
  }
 ],
 "metadata": {
  "kernelspec": {
   "display_name": "Python 3 (ipykernel)",
   "language": "python",
   "name": "python3"
  },
  "language_info": {
   "codemirror_mode": {
    "name": "ipython",
    "version": 3
   },
   "file_extension": ".py",
   "mimetype": "text/x-python",
   "name": "python",
   "nbconvert_exporter": "python",
   "pygments_lexer": "ipython3",
   "version": "3.10.0"
  }
 },
 "nbformat": 4,
 "nbformat_minor": 5
}
