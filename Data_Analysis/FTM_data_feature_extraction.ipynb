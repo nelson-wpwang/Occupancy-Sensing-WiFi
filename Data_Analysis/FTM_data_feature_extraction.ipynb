{
 "cells": [
  {
   "cell_type": "code",
   "execution_count": 1,
   "id": "98216a33",
   "metadata": {},
   "outputs": [],
   "source": [
    "import pandas as pd\n",
    "import numpy as np\n",
    "import matplotlib.pyplot as plt\n",
    "import matplotlib.dates as mdate\n",
    "import os"
   ]
  },
  {
   "cell_type": "code",
   "execution_count": 3,
   "id": "797ec87e",
   "metadata": {},
   "outputs": [],
   "source": [
    "path = '/.../Time-series processed data'\n",
    "os.chdir(path)"
   ]
  },
  {
   "cell_type": "code",
   "execution_count": 5,
   "id": "5fcf90e6",
   "metadata": {},
   "outputs": [],
   "source": [
    "ftm0_data = pd.read_csv('ftm_processed_data_nobody.csv')"
   ]
  },
  {
   "cell_type": "code",
   "execution_count": 6,
   "id": "90f3dde5",
   "metadata": {},
   "outputs": [],
   "source": [
    "ftm1_data = pd.read_csv('ftm_processed_data_1person.csv')"
   ]
  },
  {
   "cell_type": "code",
   "execution_count": 7,
   "id": "0caa30b5",
   "metadata": {},
   "outputs": [],
   "source": [
    "ftm2_data = pd.read_csv('ftm_processed_data_2person.csv')"
   ]
  },
  {
   "cell_type": "code",
   "execution_count": 12,
   "id": "2975e313",
   "metadata": {},
   "outputs": [],
   "source": [
    "ftm0_data = ftm0_data.reset_index()"
   ]
  },
  {
   "cell_type": "code",
   "execution_count": 13,
   "id": "bd8d26bc",
   "metadata": {},
   "outputs": [],
   "source": [
    "ftm1_data = ftm1_data.reset_index()"
   ]
  },
  {
   "cell_type": "code",
   "execution_count": 14,
   "id": "2ef72012",
   "metadata": {},
   "outputs": [],
   "source": [
    "ftm2_data = ftm2_data.reset_index()"
   ]
  },
  {
   "cell_type": "code",
   "execution_count": 15,
   "id": "0dcaacfd",
   "metadata": {},
   "outputs": [],
   "source": [
    "ftm0_data['label'] = '0'"
   ]
  },
  {
   "cell_type": "code",
   "execution_count": 16,
   "id": "88a45f6e",
   "metadata": {},
   "outputs": [],
   "source": [
    "ftm1_data['label'] = '1'"
   ]
  },
  {
   "cell_type": "code",
   "execution_count": 17,
   "id": "5c5d39f6",
   "metadata": {},
   "outputs": [],
   "source": [
    "ftm2_data['label'] = '2'"
   ]
  },
  {
   "cell_type": "code",
   "execution_count": 32,
   "id": "7fac7540",
   "metadata": {},
   "outputs": [],
   "source": [
    "ftm_data = pd.concat([ftm0_data, ftm1_data, ftm2_data]).reset_index()"
   ]
  },
  {
   "cell_type": "markdown",
   "id": "8052c92c",
   "metadata": {},
   "source": [
    "## Feature extraction"
   ]
  },
  {
   "cell_type": "markdown",
   "id": "0c93b00f",
   "metadata": {},
   "source": [
    "#### Aggregation over channels"
   ]
  },
  {
   "cell_type": "code",
   "execution_count": 34,
   "id": "e05481cb",
   "metadata": {},
   "outputs": [],
   "source": [
    "def ch_aggregation(df, cols, metrics):\n",
    "    df_features = df.copy()\n",
    "    for m in metrics:\n",
    "        col_name=''\n",
    "        for col in cols: \n",
    "            col_name = col_name + col + '_'\n",
    "            #col_name = col_name + col[-1]\n",
    "        col_name = col_name + m\n",
    "        if m == 'mean':\n",
    "            df_features[col_name] = df_features[cols].mean(axis=1)\n",
    "        if m == 'max':\n",
    "            df_features[col_name] = df_features[cols].max(axis=1)\n",
    "        if m == 'min':\n",
    "            df_features[col_name] = df_features[cols].min(axis=1)\n",
    "        if m == 'std':\n",
    "            df_features[col_name] = df_features[cols].std(axis=1)\n",
    "    return(df_features)\n",
    "            "
   ]
  },
  {
   "cell_type": "code",
   "execution_count": 35,
   "id": "d0d7760e",
   "metadata": {},
   "outputs": [],
   "source": [
    "ftm_ch_features = ftm_data.copy()\n",
    "for i in range(0,8):\n",
    "    ftm_ch_features = ch_aggregation(ftm_ch_features, cols=['ch'+str(i+1),'ch'+str(i+2),'ch'+str(i+3)], metrics=['mean','max','min','std'])\n",
    " "
   ]
  },
  {
   "cell_type": "code",
   "execution_count": 36,
   "id": "fdb868de",
   "metadata": {},
   "outputs": [
    {
     "data": {
      "text/plain": [
       "Index(['level_0', 'index', 'ch1', 'ch2', 'ch3', 'ch4', 'ch5', 'ch6', 'ch7',\n",
       "       'ch8', 'ch9', 'ch10', 'label', 'ch1_ch2_ch3_mean', 'ch1_ch2_ch3_max',\n",
       "       'ch1_ch2_ch3_min', 'ch1_ch2_ch3_std', 'ch2_ch3_ch4_mean',\n",
       "       'ch2_ch3_ch4_max', 'ch2_ch3_ch4_min', 'ch2_ch3_ch4_std',\n",
       "       'ch3_ch4_ch5_mean', 'ch3_ch4_ch5_max', 'ch3_ch4_ch5_min',\n",
       "       'ch3_ch4_ch5_std', 'ch4_ch5_ch6_mean', 'ch4_ch5_ch6_max',\n",
       "       'ch4_ch5_ch6_min', 'ch4_ch5_ch6_std', 'ch5_ch6_ch7_mean',\n",
       "       'ch5_ch6_ch7_max', 'ch5_ch6_ch7_min', 'ch5_ch6_ch7_std',\n",
       "       'ch6_ch7_ch8_mean', 'ch6_ch7_ch8_max', 'ch6_ch7_ch8_min',\n",
       "       'ch6_ch7_ch8_std', 'ch7_ch8_ch9_mean', 'ch7_ch8_ch9_max',\n",
       "       'ch7_ch8_ch9_min', 'ch7_ch8_ch9_std', 'ch8_ch9_ch10_mean',\n",
       "       'ch8_ch9_ch10_max', 'ch8_ch9_ch10_min', 'ch8_ch9_ch10_std'],\n",
       "      dtype='object')"
      ]
     },
     "execution_count": 36,
     "metadata": {},
     "output_type": "execute_result"
    }
   ],
   "source": [
    "ftm_ch_features.columns"
   ]
  },
  {
   "cell_type": "code",
   "execution_count": 37,
   "id": "379cbce5",
   "metadata": {},
   "outputs": [],
   "source": [
    "ftm_ch_features = ftm_ch_features.drop(['level_0', 'index'], axis=1)"
   ]
  },
  {
   "cell_type": "code",
   "execution_count": 38,
   "id": "4f71ac3c",
   "metadata": {},
   "outputs": [],
   "source": [
    "# ftm_ch_features.to_csv('labeled_ftm channel features_data.csv')"
   ]
  },
  {
   "cell_type": "markdown",
   "id": "0d707966",
   "metadata": {},
   "source": [
    "#### Aggregation over time using sliding windows (window size = 10 second/5 samples)"
   ]
  },
  {
   "cell_type": "code",
   "execution_count": 24,
   "id": "20f8f90c",
   "metadata": {},
   "outputs": [],
   "source": [
    "def rme(x):\n",
    "    return np.sqrt(sum(x**2)/len(x))"
   ]
  },
  {
   "cell_type": "code",
   "execution_count": 122,
   "id": "17301d29",
   "metadata": {},
   "outputs": [],
   "source": [
    "def ind_aggregation(df):\n",
    "    return df.groupby(['win']).agg({'ch1':['mean', 'std', 'median', rme], \n",
    "                                    'ch2':['mean', 'std', 'median', rme],\n",
    "                                    'ch3':['mean', 'std', 'median', rme], \n",
    "                                    'ch4':['mean', 'std', 'median', rme], \n",
    "                                    'ch5':['mean', 'std', 'median', rme], \n",
    "                                    'ch6':['mean', 'std', 'median', rme], \n",
    "                                    'ch7':['mean', 'std', 'median', rme], \n",
    "                                    'ch8':['mean', 'std', 'median', rme], \n",
    "                                    'ch9':['mean', 'std', 'median', rme], \n",
    "                                    'ch10':['mean', 'std', 'median', rme]}).reset_index()"
   ]
  },
  {
   "cell_type": "code",
   "execution_count": 118,
   "id": "916296de",
   "metadata": {},
   "outputs": [],
   "source": [
    "def sliding_win(df, win_size):\n",
    "    sliding_data = pd.DataFrame()\n",
    "    for i in range(len(df)-(win_size-1)):\n",
    "        window_data = df[i:i+win_size]\n",
    "        window_data['win'] = i\n",
    "        sliding_data =sliding_data.append(window_data)\n",
    "    return sliding_data   "
   ]
  },
  {
   "cell_type": "code",
   "execution_count": 131,
   "id": "ed92ece4",
   "metadata": {},
   "outputs": [
    {
     "name": "stderr",
     "output_type": "stream",
     "text": [
      "/var/folders/66/mfk28_pn1934k74x619jkgz40000gn/T/ipykernel_8824/3301846962.py:5: SettingWithCopyWarning: \n",
      "A value is trying to be set on a copy of a slice from a DataFrame.\n",
      "Try using .loc[row_indexer,col_indexer] = value instead\n",
      "\n",
      "See the caveats in the documentation: https://pandas.pydata.org/pandas-docs/stable/user_guide/indexing.html#returning-a-view-versus-a-copy\n",
      "  window_data['win'] = i\n",
      "/var/folders/66/mfk28_pn1934k74x619jkgz40000gn/T/ipykernel_8824/3369772976.py:2: FutureWarning: Index.ravel returning ndarray is deprecated; in a future version this will return a view on self.\n",
      "  ftm0_sliding_ind_features.columns = [\"\".join(x) for x in ftm0_sliding_ind_features.columns.ravel()]\n"
     ]
    }
   ],
   "source": [
    "ftm0_sliding_ind_features = ind_aggregation(sliding_win(ftm0_data,5)).drop(['win'], axis=1)\n",
    "ftm0_sliding_ind_features.columns = [\"\".join(x) for x in ftm0_sliding_ind_features.columns.ravel()]\n",
    "ftm0_sliding_ind_features['label'] = 0"
   ]
  },
  {
   "cell_type": "code",
   "execution_count": 132,
   "id": "1598ab17",
   "metadata": {},
   "outputs": [
    {
     "name": "stderr",
     "output_type": "stream",
     "text": [
      "/var/folders/66/mfk28_pn1934k74x619jkgz40000gn/T/ipykernel_8824/3301846962.py:5: SettingWithCopyWarning: \n",
      "A value is trying to be set on a copy of a slice from a DataFrame.\n",
      "Try using .loc[row_indexer,col_indexer] = value instead\n",
      "\n",
      "See the caveats in the documentation: https://pandas.pydata.org/pandas-docs/stable/user_guide/indexing.html#returning-a-view-versus-a-copy\n",
      "  window_data['win'] = i\n",
      "/var/folders/66/mfk28_pn1934k74x619jkgz40000gn/T/ipykernel_8824/3856569549.py:2: FutureWarning: Index.ravel returning ndarray is deprecated; in a future version this will return a view on self.\n",
      "  ftm1_sliding_ind_features.columns = [\"\".join(x) for x in ftm1_sliding_ind_features.columns.ravel()]\n"
     ]
    }
   ],
   "source": [
    "ftm1_sliding_ind_features = ind_aggregation(sliding_win(ftm1_data,5)).drop(['win'], axis=1)\n",
    "ftm1_sliding_ind_features.columns = [\"\".join(x) for x in ftm1_sliding_ind_features.columns.ravel()]\n",
    "ftm1_sliding_ind_features['label'] = 1"
   ]
  },
  {
   "cell_type": "code",
   "execution_count": 133,
   "id": "0ecdaa0e",
   "metadata": {},
   "outputs": [
    {
     "name": "stderr",
     "output_type": "stream",
     "text": [
      "/var/folders/66/mfk28_pn1934k74x619jkgz40000gn/T/ipykernel_8824/3301846962.py:5: SettingWithCopyWarning: \n",
      "A value is trying to be set on a copy of a slice from a DataFrame.\n",
      "Try using .loc[row_indexer,col_indexer] = value instead\n",
      "\n",
      "See the caveats in the documentation: https://pandas.pydata.org/pandas-docs/stable/user_guide/indexing.html#returning-a-view-versus-a-copy\n",
      "  window_data['win'] = i\n",
      "/var/folders/66/mfk28_pn1934k74x619jkgz40000gn/T/ipykernel_8824/667353732.py:2: FutureWarning: Index.ravel returning ndarray is deprecated; in a future version this will return a view on self.\n",
      "  ftm2_sliding_ind_features.columns = [\"\".join(x) for x in ftm2_sliding_ind_features.columns.ravel()]\n"
     ]
    }
   ],
   "source": [
    "ftm2_sliding_ind_features = ind_aggregation(sliding_win(ftm2_data,5)).drop(['win'], axis=1)\n",
    "ftm2_sliding_ind_features.columns = [\"\".join(x) for x in ftm2_sliding_ind_features.columns.ravel()]\n",
    "ftm2_sliding_ind_features['label'] = 2"
   ]
  },
  {
   "cell_type": "code",
   "execution_count": 137,
   "id": "290e46a7",
   "metadata": {},
   "outputs": [],
   "source": [
    "# ftm0_sliding_ind_features.to_csv('labeled_ftm0 index features_sliding win5_data.csv')"
   ]
  },
  {
   "cell_type": "code",
   "execution_count": 138,
   "id": "1c722a50",
   "metadata": {},
   "outputs": [],
   "source": [
    "# ftm1_sliding_ind_features.to_csv('labeled_ftm1 index features_sliding win5_data.csv')"
   ]
  },
  {
   "cell_type": "code",
   "execution_count": 139,
   "id": "e453fcbf",
   "metadata": {},
   "outputs": [],
   "source": [
    "# ftm2_sliding_ind_features.to_csv('labeled_ftm2 index features_sliding win5_data.csv')"
   ]
  },
  {
   "cell_type": "code",
   "execution_count": 135,
   "id": "12e4a43e",
   "metadata": {},
   "outputs": [],
   "source": [
    "ftm_sliding_ind_features = pd.concat([ftm0_sliding_ind_features, ftm1_sliding_ind_features, ftm2_sliding_ind_features]).reset_index()"
   ]
  },
  {
   "cell_type": "code",
   "execution_count": 136,
   "id": "dccfee7c",
   "metadata": {},
   "outputs": [],
   "source": [
    "# ftm_sliding_ind_features.to_csv('labeled_ftm index features_sliding win5_data.csv')"
   ]
  },
  {
   "cell_type": "markdown",
   "id": "4ff9b148",
   "metadata": {},
   "source": [
    "#### Aggregating over time using sequential windows (window size = 10 second/5 samples)"
   ]
  },
  {
   "cell_type": "code",
   "execution_count": 98,
   "id": "90cd49de",
   "metadata": {},
   "outputs": [],
   "source": [
    "win_size = 5\n",
    "for i in range(len(ftm0_data)-win_size):\n",
    "    a = ftm0_data[i:i+win_size].agg({'ch1':['mean', 'std', 'median', rme], 'ch2':['mean', 'std', 'median', rme],'ch3':['mean', 'std', 'median', rme], 'ch4':['mean', 'std', 'median', rme], 'ch5':['mean', 'std', 'median', rme], 'ch6':['mean', 'std', 'median', rme], 'ch7':['mean', 'std', 'median', rme], 'ch8':['mean', 'std', 'median', rme], 'ch9':['mean', 'std', 'median', rme], 'ch10':['mean', 'std', 'median', rme]}).reset_index()\n",
    "    ftm0_featur = ftm0_featur.append(a)\n"
   ]
  },
  {
   "cell_type": "code",
   "execution_count": 66,
   "id": "d22396c0",
   "metadata": {},
   "outputs": [],
   "source": [
    "def ind_segmentation(win_size, df):\n",
    "    df_seg = df.copy()\n",
    "    df_seg['win']=0\n",
    "    for w in range(int((len(df_seg)-win_size+1)/win_size)+1):\n",
    "        df_seg.win[(w*win_size):(w*win_size)+win_size] = w\n",
    "    return df_seg"
   ]
  },
  {
   "cell_type": "code",
   "execution_count": 67,
   "id": "cc6b4898",
   "metadata": {},
   "outputs": [
    {
     "name": "stderr",
     "output_type": "stream",
     "text": [
      "/var/folders/66/mfk28_pn1934k74x619jkgz40000gn/T/ipykernel_8824/3631869467.py:6: SettingWithCopyWarning: \n",
      "A value is trying to be set on a copy of a slice from a DataFrame\n",
      "\n",
      "See the caveats in the documentation: https://pandas.pydata.org/pandas-docs/stable/user_guide/indexing.html#returning-a-view-versus-a-copy\n",
      "  df_seg.win[(w*win_size):(w*win_size)+win_size] = w\n"
     ]
    }
   ],
   "source": [
    "ftm0_seg_data = ind_segmentation(5, ftm0_data)"
   ]
  },
  {
   "cell_type": "code",
   "execution_count": 45,
   "id": "c81c3f13",
   "metadata": {},
   "outputs": [
    {
     "name": "stderr",
     "output_type": "stream",
     "text": [
      "/var/folders/66/mfk28_pn1934k74x619jkgz40000gn/T/ipykernel_8824/3631869467.py:6: SettingWithCopyWarning: \n",
      "A value is trying to be set on a copy of a slice from a DataFrame\n",
      "\n",
      "See the caveats in the documentation: https://pandas.pydata.org/pandas-docs/stable/user_guide/indexing.html#returning-a-view-versus-a-copy\n",
      "  df_seg.win[(w*win_size):(w*win_size)+win_size] = w\n"
     ]
    }
   ],
   "source": [
    "ftm1_seg_data = ind_segmentation(5, ftm1_data)"
   ]
  },
  {
   "cell_type": "code",
   "execution_count": 46,
   "id": "52d56685",
   "metadata": {},
   "outputs": [
    {
     "name": "stderr",
     "output_type": "stream",
     "text": [
      "/var/folders/66/mfk28_pn1934k74x619jkgz40000gn/T/ipykernel_8824/3631869467.py:6: SettingWithCopyWarning: \n",
      "A value is trying to be set on a copy of a slice from a DataFrame\n",
      "\n",
      "See the caveats in the documentation: https://pandas.pydata.org/pandas-docs/stable/user_guide/indexing.html#returning-a-view-versus-a-copy\n",
      "  df_seg.win[(w*win_size):(w*win_size)+win_size] = w\n"
     ]
    }
   ],
   "source": [
    "ftm2_seg_data = ind_segmentation(5, ftm2_data)"
   ]
  },
  {
   "cell_type": "code",
   "execution_count": 83,
   "id": "f4c0c26f",
   "metadata": {},
   "outputs": [
    {
     "name": "stderr",
     "output_type": "stream",
     "text": [
      "/var/folders/66/mfk28_pn1934k74x619jkgz40000gn/T/ipykernel_8824/1330315466.py:2: FutureWarning: Index.ravel returning ndarray is deprecated; in a future version this will return a view on self.\n",
      "  ftm0_ind_features.columns = [\"\".join(x) for x in ftm0_ind_features.columns.ravel()]\n"
     ]
    }
   ],
   "source": [
    "ftm0_ind_features = ind_aggregation(ftm0_seg_data).drop(['win'], axis=1)\n",
    "ftm0_ind_features.columns = [\"\".join(x) for x in ftm0_ind_features.columns.ravel()]\n",
    "ftm0_ind_features['label'] = 0"
   ]
  },
  {
   "cell_type": "code",
   "execution_count": 84,
   "id": "adf45f2f",
   "metadata": {},
   "outputs": [
    {
     "data": {
      "text/html": [
       "<div>\n",
       "<style scoped>\n",
       "    .dataframe tbody tr th:only-of-type {\n",
       "        vertical-align: middle;\n",
       "    }\n",
       "\n",
       "    .dataframe tbody tr th {\n",
       "        vertical-align: top;\n",
       "    }\n",
       "\n",
       "    .dataframe thead th {\n",
       "        text-align: right;\n",
       "    }\n",
       "</style>\n",
       "<table border=\"1\" class=\"dataframe\">\n",
       "  <thead>\n",
       "    <tr style=\"text-align: right;\">\n",
       "      <th></th>\n",
       "      <th>ch1mean</th>\n",
       "      <th>ch1std</th>\n",
       "      <th>ch1median</th>\n",
       "      <th>ch1rme</th>\n",
       "      <th>ch2mean</th>\n",
       "      <th>ch2std</th>\n",
       "      <th>ch2median</th>\n",
       "      <th>ch2rme</th>\n",
       "      <th>ch3mean</th>\n",
       "      <th>ch3std</th>\n",
       "      <th>...</th>\n",
       "      <th>ch8rme</th>\n",
       "      <th>ch9mean</th>\n",
       "      <th>ch9std</th>\n",
       "      <th>ch9median</th>\n",
       "      <th>ch9rme</th>\n",
       "      <th>ch10mean</th>\n",
       "      <th>ch10std</th>\n",
       "      <th>ch10median</th>\n",
       "      <th>ch10rme</th>\n",
       "      <th>label</th>\n",
       "    </tr>\n",
       "  </thead>\n",
       "  <tbody>\n",
       "    <tr>\n",
       "      <th>0</th>\n",
       "      <td>9.990</td>\n",
       "      <td>11.800983</td>\n",
       "      <td>4.68</td>\n",
       "      <td>14.533088</td>\n",
       "      <td>2.626</td>\n",
       "      <td>0.192821</td>\n",
       "      <td>2.60</td>\n",
       "      <td>2.631657</td>\n",
       "      <td>1.326</td>\n",
       "      <td>0.232551</td>\n",
       "      <td>...</td>\n",
       "      <td>3.744361</td>\n",
       "      <td>2.860</td>\n",
       "      <td>0.000000</td>\n",
       "      <td>2.86</td>\n",
       "      <td>2.860000</td>\n",
       "      <td>2.886</td>\n",
       "      <td>0.058138</td>\n",
       "      <td>2.86</td>\n",
       "      <td>2.886468</td>\n",
       "      <td>0</td>\n",
       "    </tr>\n",
       "    <tr>\n",
       "      <th>1</th>\n",
       "      <td>4.472</td>\n",
       "      <td>0.299282</td>\n",
       "      <td>4.68</td>\n",
       "      <td>4.480004</td>\n",
       "      <td>2.730</td>\n",
       "      <td>0.260000</td>\n",
       "      <td>2.73</td>\n",
       "      <td>2.739887</td>\n",
       "      <td>1.612</td>\n",
       "      <td>0.269574</td>\n",
       "      <td>...</td>\n",
       "      <td>3.667291</td>\n",
       "      <td>2.834</td>\n",
       "      <td>0.058138</td>\n",
       "      <td>2.86</td>\n",
       "      <td>2.834477</td>\n",
       "      <td>2.938</td>\n",
       "      <td>0.071204</td>\n",
       "      <td>2.99</td>\n",
       "      <td>2.938690</td>\n",
       "      <td>0</td>\n",
       "    </tr>\n",
       "    <tr>\n",
       "      <th>2</th>\n",
       "      <td>4.212</td>\n",
       "      <td>0.417217</td>\n",
       "      <td>4.42</td>\n",
       "      <td>4.228499</td>\n",
       "      <td>2.470</td>\n",
       "      <td>0.450333</td>\n",
       "      <td>2.34</td>\n",
       "      <td>2.502627</td>\n",
       "      <td>1.456</td>\n",
       "      <td>0.232551</td>\n",
       "      <td>...</td>\n",
       "      <td>3.718545</td>\n",
       "      <td>2.782</td>\n",
       "      <td>0.071204</td>\n",
       "      <td>2.73</td>\n",
       "      <td>2.782729</td>\n",
       "      <td>2.990</td>\n",
       "      <td>0.000000</td>\n",
       "      <td>2.99</td>\n",
       "      <td>2.990000</td>\n",
       "      <td>0</td>\n",
       "    </tr>\n",
       "    <tr>\n",
       "      <th>3</th>\n",
       "      <td>4.706</td>\n",
       "      <td>0.684200</td>\n",
       "      <td>4.55</td>\n",
       "      <td>4.745623</td>\n",
       "      <td>2.444</td>\n",
       "      <td>0.515102</td>\n",
       "      <td>2.73</td>\n",
       "      <td>2.487046</td>\n",
       "      <td>1.300</td>\n",
       "      <td>0.379012</td>\n",
       "      <td>...</td>\n",
       "      <td>3.698951</td>\n",
       "      <td>2.756</td>\n",
       "      <td>0.250060</td>\n",
       "      <td>2.86</td>\n",
       "      <td>2.765061</td>\n",
       "      <td>2.964</td>\n",
       "      <td>0.142408</td>\n",
       "      <td>2.86</td>\n",
       "      <td>2.966736</td>\n",
       "      <td>0</td>\n",
       "    </tr>\n",
       "    <tr>\n",
       "      <th>4</th>\n",
       "      <td>9.520</td>\n",
       "      <td>11.850859</td>\n",
       "      <td>4.55</td>\n",
       "      <td>14.247269</td>\n",
       "      <td>2.184</td>\n",
       "      <td>0.819103</td>\n",
       "      <td>2.60</td>\n",
       "      <td>2.303606</td>\n",
       "      <td>1.040</td>\n",
       "      <td>0.623458</td>\n",
       "      <td>...</td>\n",
       "      <td>3.593271</td>\n",
       "      <td>2.600</td>\n",
       "      <td>0.356020</td>\n",
       "      <td>2.86</td>\n",
       "      <td>2.619427</td>\n",
       "      <td>2.548</td>\n",
       "      <td>0.548471</td>\n",
       "      <td>2.86</td>\n",
       "      <td>2.594795</td>\n",
       "      <td>0</td>\n",
       "    </tr>\n",
       "    <tr>\n",
       "      <th>5</th>\n",
       "      <td>3.146</td>\n",
       "      <td>0.169499</td>\n",
       "      <td>3.12</td>\n",
       "      <td>3.149651</td>\n",
       "      <td>0.988</td>\n",
       "      <td>0.116276</td>\n",
       "      <td>1.04</td>\n",
       "      <td>0.993459</td>\n",
       "      <td>0.234</td>\n",
       "      <td>0.108766</td>\n",
       "      <td>...</td>\n",
       "      <td>3.380000</td>\n",
       "      <td>2.210</td>\n",
       "      <td>0.130000</td>\n",
       "      <td>2.21</td>\n",
       "      <td>2.213057</td>\n",
       "      <td>1.924</td>\n",
       "      <td>0.058138</td>\n",
       "      <td>1.95</td>\n",
       "      <td>1.924703</td>\n",
       "      <td>0</td>\n",
       "    </tr>\n",
       "    <tr>\n",
       "      <th>6</th>\n",
       "      <td>3.172</td>\n",
       "      <td>0.197155</td>\n",
       "      <td>3.25</td>\n",
       "      <td>3.176898</td>\n",
       "      <td>0.910</td>\n",
       "      <td>0.091924</td>\n",
       "      <td>0.91</td>\n",
       "      <td>0.913707</td>\n",
       "      <td>0.156</td>\n",
       "      <td>0.108766</td>\n",
       "      <td>...</td>\n",
       "      <td>3.250000</td>\n",
       "      <td>2.184</td>\n",
       "      <td>0.058138</td>\n",
       "      <td>2.21</td>\n",
       "      <td>2.184619</td>\n",
       "      <td>1.976</td>\n",
       "      <td>0.108766</td>\n",
       "      <td>1.95</td>\n",
       "      <td>1.978393</td>\n",
       "      <td>0</td>\n",
       "    </tr>\n",
       "    <tr>\n",
       "      <th>7</th>\n",
       "      <td>3.172</td>\n",
       "      <td>0.071204</td>\n",
       "      <td>3.12</td>\n",
       "      <td>3.172639</td>\n",
       "      <td>0.962</td>\n",
       "      <td>0.071204</td>\n",
       "      <td>0.91</td>\n",
       "      <td>0.964106</td>\n",
       "      <td>0.104</td>\n",
       "      <td>0.142408</td>\n",
       "      <td>...</td>\n",
       "      <td>3.328609</td>\n",
       "      <td>2.158</td>\n",
       "      <td>0.071204</td>\n",
       "      <td>2.21</td>\n",
       "      <td>2.158940</td>\n",
       "      <td>2.054</td>\n",
       "      <td>0.108766</td>\n",
       "      <td>2.08</td>\n",
       "      <td>2.056303</td>\n",
       "      <td>0</td>\n",
       "    </tr>\n",
       "    <tr>\n",
       "      <th>8</th>\n",
       "      <td>4.914</td>\n",
       "      <td>0.481176</td>\n",
       "      <td>4.81</td>\n",
       "      <td>4.932811</td>\n",
       "      <td>1.898</td>\n",
       "      <td>0.071204</td>\n",
       "      <td>1.95</td>\n",
       "      <td>1.899068</td>\n",
       "      <td>1.066</td>\n",
       "      <td>0.425241</td>\n",
       "      <td>...</td>\n",
       "      <td>3.355411</td>\n",
       "      <td>2.262</td>\n",
       "      <td>0.116276</td>\n",
       "      <td>2.34</td>\n",
       "      <td>2.264390</td>\n",
       "      <td>2.080</td>\n",
       "      <td>0.091924</td>\n",
       "      <td>2.08</td>\n",
       "      <td>2.081624</td>\n",
       "      <td>0</td>\n",
       "    </tr>\n",
       "    <tr>\n",
       "      <th>9</th>\n",
       "      <td>9.024</td>\n",
       "      <td>11.905540</td>\n",
       "      <td>3.77</td>\n",
       "      <td>13.958011</td>\n",
       "      <td>2.132</td>\n",
       "      <td>0.721471</td>\n",
       "      <td>2.08</td>\n",
       "      <td>2.227519</td>\n",
       "      <td>0.468</td>\n",
       "      <td>0.465102</td>\n",
       "      <td>...</td>\n",
       "      <td>3.254157</td>\n",
       "      <td>2.184</td>\n",
       "      <td>0.192821</td>\n",
       "      <td>2.21</td>\n",
       "      <td>2.190799</td>\n",
       "      <td>2.106</td>\n",
       "      <td>0.108766</td>\n",
       "      <td>2.08</td>\n",
       "      <td>2.108246</td>\n",
       "      <td>0</td>\n",
       "    </tr>\n",
       "    <tr>\n",
       "      <th>10</th>\n",
       "      <td>2.652</td>\n",
       "      <td>0.217532</td>\n",
       "      <td>2.60</td>\n",
       "      <td>2.659128</td>\n",
       "      <td>2.054</td>\n",
       "      <td>0.142408</td>\n",
       "      <td>2.08</td>\n",
       "      <td>2.057946</td>\n",
       "      <td>1.248</td>\n",
       "      <td>0.116276</td>\n",
       "      <td>...</td>\n",
       "      <td>3.328609</td>\n",
       "      <td>2.262</td>\n",
       "      <td>0.071204</td>\n",
       "      <td>2.21</td>\n",
       "      <td>2.262896</td>\n",
       "      <td>1.976</td>\n",
       "      <td>0.058138</td>\n",
       "      <td>1.95</td>\n",
       "      <td>1.976684</td>\n",
       "      <td>0</td>\n",
       "    </tr>\n",
       "    <tr>\n",
       "      <th>11</th>\n",
       "      <td>3.666</td>\n",
       "      <td>0.874002</td>\n",
       "      <td>4.16</td>\n",
       "      <td>3.748421</td>\n",
       "      <td>2.366</td>\n",
       "      <td>0.281833</td>\n",
       "      <td>2.47</td>\n",
       "      <td>2.379391</td>\n",
       "      <td>1.040</td>\n",
       "      <td>0.431161</td>\n",
       "      <td>...</td>\n",
       "      <td>3.432591</td>\n",
       "      <td>2.366</td>\n",
       "      <td>0.058138</td>\n",
       "      <td>2.34</td>\n",
       "      <td>2.366571</td>\n",
       "      <td>1.872</td>\n",
       "      <td>0.071204</td>\n",
       "      <td>1.82</td>\n",
       "      <td>1.873083</td>\n",
       "      <td>0</td>\n",
       "    </tr>\n",
       "    <tr>\n",
       "      <th>12</th>\n",
       "      <td>3.744</td>\n",
       "      <td>0.142408</td>\n",
       "      <td>3.64</td>\n",
       "      <td>3.746166</td>\n",
       "      <td>2.470</td>\n",
       "      <td>0.091924</td>\n",
       "      <td>2.47</td>\n",
       "      <td>2.471368</td>\n",
       "      <td>0.936</td>\n",
       "      <td>0.296446</td>\n",
       "      <td>...</td>\n",
       "      <td>3.510963</td>\n",
       "      <td>2.418</td>\n",
       "      <td>0.071204</td>\n",
       "      <td>2.47</td>\n",
       "      <td>2.418839</td>\n",
       "      <td>1.872</td>\n",
       "      <td>0.197155</td>\n",
       "      <td>1.82</td>\n",
       "      <td>1.880287</td>\n",
       "      <td>0</td>\n",
       "    </tr>\n",
       "    <tr>\n",
       "      <th>13</th>\n",
       "      <td>3.614</td>\n",
       "      <td>0.444668</td>\n",
       "      <td>3.77</td>\n",
       "      <td>3.635819</td>\n",
       "      <td>2.080</td>\n",
       "      <td>0.159217</td>\n",
       "      <td>2.08</td>\n",
       "      <td>2.084869</td>\n",
       "      <td>0.832</td>\n",
       "      <td>0.236157</td>\n",
       "      <td>...</td>\n",
       "      <td>3.512888</td>\n",
       "      <td>2.366</td>\n",
       "      <td>0.058138</td>\n",
       "      <td>2.34</td>\n",
       "      <td>2.366571</td>\n",
       "      <td>1.898</td>\n",
       "      <td>0.071204</td>\n",
       "      <td>1.95</td>\n",
       "      <td>1.899068</td>\n",
       "      <td>0</td>\n",
       "    </tr>\n",
       "    <tr>\n",
       "      <th>14</th>\n",
       "      <td>3.536</td>\n",
       "      <td>0.169499</td>\n",
       "      <td>3.51</td>\n",
       "      <td>3.539249</td>\n",
       "      <td>1.664</td>\n",
       "      <td>0.058138</td>\n",
       "      <td>1.69</td>\n",
       "      <td>1.664812</td>\n",
       "      <td>0.806</td>\n",
       "      <td>0.058138</td>\n",
       "      <td>...</td>\n",
       "      <td>3.510000</td>\n",
       "      <td>2.366</td>\n",
       "      <td>0.058138</td>\n",
       "      <td>2.34</td>\n",
       "      <td>2.366571</td>\n",
       "      <td>1.950</td>\n",
       "      <td>0.000000</td>\n",
       "      <td>1.95</td>\n",
       "      <td>1.950000</td>\n",
       "      <td>0</td>\n",
       "    </tr>\n",
       "    <tr>\n",
       "      <th>15</th>\n",
       "      <td>9.280</td>\n",
       "      <td>12.034611</td>\n",
       "      <td>4.16</td>\n",
       "      <td>14.212103</td>\n",
       "      <td>2.080</td>\n",
       "      <td>0.421248</td>\n",
       "      <td>2.34</td>\n",
       "      <td>2.113850</td>\n",
       "      <td>1.170</td>\n",
       "      <td>0.486415</td>\n",
       "      <td>...</td>\n",
       "      <td>3.537338</td>\n",
       "      <td>2.496</td>\n",
       "      <td>0.108766</td>\n",
       "      <td>2.47</td>\n",
       "      <td>2.497895</td>\n",
       "      <td>1.976</td>\n",
       "      <td>0.142408</td>\n",
       "      <td>2.08</td>\n",
       "      <td>1.980101</td>\n",
       "      <td>0</td>\n",
       "    </tr>\n",
       "    <tr>\n",
       "      <th>16</th>\n",
       "      <td>4.056</td>\n",
       "      <td>0.108766</td>\n",
       "      <td>4.03</td>\n",
       "      <td>4.057166</td>\n",
       "      <td>2.340</td>\n",
       "      <td>0.000000</td>\n",
       "      <td>2.34</td>\n",
       "      <td>2.340000</td>\n",
       "      <td>1.352</td>\n",
       "      <td>0.174413</td>\n",
       "      <td>...</td>\n",
       "      <td>3.486328</td>\n",
       "      <td>2.574</td>\n",
       "      <td>0.058138</td>\n",
       "      <td>2.60</td>\n",
       "      <td>2.574525</td>\n",
       "      <td>2.106</td>\n",
       "      <td>0.058138</td>\n",
       "      <td>2.08</td>\n",
       "      <td>2.106642</td>\n",
       "      <td>0</td>\n",
       "    </tr>\n",
       "    <tr>\n",
       "      <th>17</th>\n",
       "      <td>8.954</td>\n",
       "      <td>12.102708</td>\n",
       "      <td>3.77</td>\n",
       "      <td>14.048293</td>\n",
       "      <td>2.288</td>\n",
       "      <td>0.071204</td>\n",
       "      <td>2.34</td>\n",
       "      <td>2.288886</td>\n",
       "      <td>1.352</td>\n",
       "      <td>0.253417</td>\n",
       "      <td>...</td>\n",
       "      <td>3.432591</td>\n",
       "      <td>2.548</td>\n",
       "      <td>0.071204</td>\n",
       "      <td>2.60</td>\n",
       "      <td>2.548796</td>\n",
       "      <td>2.054</td>\n",
       "      <td>0.058138</td>\n",
       "      <td>2.08</td>\n",
       "      <td>2.054658</td>\n",
       "      <td>0</td>\n",
       "    </tr>\n",
       "    <tr>\n",
       "      <th>18</th>\n",
       "      <td>9.016</td>\n",
       "      <td>12.467136</td>\n",
       "      <td>3.64</td>\n",
       "      <td>14.339869</td>\n",
       "      <td>2.236</td>\n",
       "      <td>0.281833</td>\n",
       "      <td>2.21</td>\n",
       "      <td>2.250164</td>\n",
       "      <td>1.326</td>\n",
       "      <td>0.169499</td>\n",
       "      <td>...</td>\n",
       "      <td>3.537338</td>\n",
       "      <td>2.496</td>\n",
       "      <td>0.058138</td>\n",
       "      <td>2.47</td>\n",
       "      <td>2.496542</td>\n",
       "      <td>2.340</td>\n",
       "      <td>0.304877</td>\n",
       "      <td>2.47</td>\n",
       "      <td>2.355835</td>\n",
       "      <td>0</td>\n",
       "    </tr>\n",
       "    <tr>\n",
       "      <th>19</th>\n",
       "      <td>8.638</td>\n",
       "      <td>11.833622</td>\n",
       "      <td>3.64</td>\n",
       "      <td>13.661725</td>\n",
       "      <td>1.924</td>\n",
       "      <td>0.671737</td>\n",
       "      <td>2.08</td>\n",
       "      <td>2.015629</td>\n",
       "      <td>0.858</td>\n",
       "      <td>0.427224</td>\n",
       "      <td>...</td>\n",
       "      <td>3.279506</td>\n",
       "      <td>2.314</td>\n",
       "      <td>0.108766</td>\n",
       "      <td>2.34</td>\n",
       "      <td>2.316044</td>\n",
       "      <td>2.236</td>\n",
       "      <td>0.404883</td>\n",
       "      <td>2.08</td>\n",
       "      <td>2.265136</td>\n",
       "      <td>0</td>\n",
       "    </tr>\n",
       "  </tbody>\n",
       "</table>\n",
       "<p>20 rows × 41 columns</p>\n",
       "</div>"
      ],
      "text/plain": [
       "    ch1mean     ch1std  ch1median     ch1rme  ch2mean    ch2std  ch2median  \\\n",
       "0     9.990  11.800983       4.68  14.533088    2.626  0.192821       2.60   \n",
       "1     4.472   0.299282       4.68   4.480004    2.730  0.260000       2.73   \n",
       "2     4.212   0.417217       4.42   4.228499    2.470  0.450333       2.34   \n",
       "3     4.706   0.684200       4.55   4.745623    2.444  0.515102       2.73   \n",
       "4     9.520  11.850859       4.55  14.247269    2.184  0.819103       2.60   \n",
       "5     3.146   0.169499       3.12   3.149651    0.988  0.116276       1.04   \n",
       "6     3.172   0.197155       3.25   3.176898    0.910  0.091924       0.91   \n",
       "7     3.172   0.071204       3.12   3.172639    0.962  0.071204       0.91   \n",
       "8     4.914   0.481176       4.81   4.932811    1.898  0.071204       1.95   \n",
       "9     9.024  11.905540       3.77  13.958011    2.132  0.721471       2.08   \n",
       "10    2.652   0.217532       2.60   2.659128    2.054  0.142408       2.08   \n",
       "11    3.666   0.874002       4.16   3.748421    2.366  0.281833       2.47   \n",
       "12    3.744   0.142408       3.64   3.746166    2.470  0.091924       2.47   \n",
       "13    3.614   0.444668       3.77   3.635819    2.080  0.159217       2.08   \n",
       "14    3.536   0.169499       3.51   3.539249    1.664  0.058138       1.69   \n",
       "15    9.280  12.034611       4.16  14.212103    2.080  0.421248       2.34   \n",
       "16    4.056   0.108766       4.03   4.057166    2.340  0.000000       2.34   \n",
       "17    8.954  12.102708       3.77  14.048293    2.288  0.071204       2.34   \n",
       "18    9.016  12.467136       3.64  14.339869    2.236  0.281833       2.21   \n",
       "19    8.638  11.833622       3.64  13.661725    1.924  0.671737       2.08   \n",
       "\n",
       "      ch2rme  ch3mean    ch3std  ...    ch8rme  ch9mean    ch9std  ch9median  \\\n",
       "0   2.631657    1.326  0.232551  ...  3.744361    2.860  0.000000       2.86   \n",
       "1   2.739887    1.612  0.269574  ...  3.667291    2.834  0.058138       2.86   \n",
       "2   2.502627    1.456  0.232551  ...  3.718545    2.782  0.071204       2.73   \n",
       "3   2.487046    1.300  0.379012  ...  3.698951    2.756  0.250060       2.86   \n",
       "4   2.303606    1.040  0.623458  ...  3.593271    2.600  0.356020       2.86   \n",
       "5   0.993459    0.234  0.108766  ...  3.380000    2.210  0.130000       2.21   \n",
       "6   0.913707    0.156  0.108766  ...  3.250000    2.184  0.058138       2.21   \n",
       "7   0.964106    0.104  0.142408  ...  3.328609    2.158  0.071204       2.21   \n",
       "8   1.899068    1.066  0.425241  ...  3.355411    2.262  0.116276       2.34   \n",
       "9   2.227519    0.468  0.465102  ...  3.254157    2.184  0.192821       2.21   \n",
       "10  2.057946    1.248  0.116276  ...  3.328609    2.262  0.071204       2.21   \n",
       "11  2.379391    1.040  0.431161  ...  3.432591    2.366  0.058138       2.34   \n",
       "12  2.471368    0.936  0.296446  ...  3.510963    2.418  0.071204       2.47   \n",
       "13  2.084869    0.832  0.236157  ...  3.512888    2.366  0.058138       2.34   \n",
       "14  1.664812    0.806  0.058138  ...  3.510000    2.366  0.058138       2.34   \n",
       "15  2.113850    1.170  0.486415  ...  3.537338    2.496  0.108766       2.47   \n",
       "16  2.340000    1.352  0.174413  ...  3.486328    2.574  0.058138       2.60   \n",
       "17  2.288886    1.352  0.253417  ...  3.432591    2.548  0.071204       2.60   \n",
       "18  2.250164    1.326  0.169499  ...  3.537338    2.496  0.058138       2.47   \n",
       "19  2.015629    0.858  0.427224  ...  3.279506    2.314  0.108766       2.34   \n",
       "\n",
       "      ch9rme  ch10mean   ch10std  ch10median   ch10rme  label  \n",
       "0   2.860000     2.886  0.058138        2.86  2.886468      0  \n",
       "1   2.834477     2.938  0.071204        2.99  2.938690      0  \n",
       "2   2.782729     2.990  0.000000        2.99  2.990000      0  \n",
       "3   2.765061     2.964  0.142408        2.86  2.966736      0  \n",
       "4   2.619427     2.548  0.548471        2.86  2.594795      0  \n",
       "5   2.213057     1.924  0.058138        1.95  1.924703      0  \n",
       "6   2.184619     1.976  0.108766        1.95  1.978393      0  \n",
       "7   2.158940     2.054  0.108766        2.08  2.056303      0  \n",
       "8   2.264390     2.080  0.091924        2.08  2.081624      0  \n",
       "9   2.190799     2.106  0.108766        2.08  2.108246      0  \n",
       "10  2.262896     1.976  0.058138        1.95  1.976684      0  \n",
       "11  2.366571     1.872  0.071204        1.82  1.873083      0  \n",
       "12  2.418839     1.872  0.197155        1.82  1.880287      0  \n",
       "13  2.366571     1.898  0.071204        1.95  1.899068      0  \n",
       "14  2.366571     1.950  0.000000        1.95  1.950000      0  \n",
       "15  2.497895     1.976  0.142408        2.08  1.980101      0  \n",
       "16  2.574525     2.106  0.058138        2.08  2.106642      0  \n",
       "17  2.548796     2.054  0.058138        2.08  2.054658      0  \n",
       "18  2.496542     2.340  0.304877        2.47  2.355835      0  \n",
       "19  2.316044     2.236  0.404883        2.08  2.265136      0  \n",
       "\n",
       "[20 rows x 41 columns]"
      ]
     },
     "execution_count": 84,
     "metadata": {},
     "output_type": "execute_result"
    }
   ],
   "source": [
    "ftm0_ind_features"
   ]
  },
  {
   "cell_type": "code",
   "execution_count": 85,
   "id": "5740bb52",
   "metadata": {},
   "outputs": [
    {
     "name": "stderr",
     "output_type": "stream",
     "text": [
      "/Library/Frameworks/Python.framework/Versions/3.10/lib/python3.10/site-packages/pandas/core/generic.py:4153: PerformanceWarning: dropping on a non-lexsorted multi-index without a level parameter may impact performance.\n",
      "  obj = obj._drop_axis(labels, axis, level=level, errors=errors)\n",
      "/var/folders/66/mfk28_pn1934k74x619jkgz40000gn/T/ipykernel_8824/1421873090.py:2: FutureWarning: Index.ravel returning ndarray is deprecated; in a future version this will return a view on self.\n",
      "  ftm1_ind_features.columns = [\"\".join(x) for x in ftm1_ind_features.columns.ravel()]\n"
     ]
    }
   ],
   "source": [
    "ftm1_ind_features = ind_aggregation(ftm1_seg_data).drop(['win'], axis=1)\n",
    "ftm1_ind_features.columns = [\"\".join(x) for x in ftm1_ind_features.columns.ravel()]\n",
    "ftm1_ind_features['label'] = 1"
   ]
  },
  {
   "cell_type": "code",
   "execution_count": 86,
   "id": "d0594565",
   "metadata": {},
   "outputs": [
    {
     "name": "stderr",
     "output_type": "stream",
     "text": [
      "/var/folders/66/mfk28_pn1934k74x619jkgz40000gn/T/ipykernel_8824/2703145185.py:2: FutureWarning: Index.ravel returning ndarray is deprecated; in a future version this will return a view on self.\n",
      "  ftm2_ind_features.columns = [\"\".join(x) for x in ftm2_ind_features.columns.ravel()]\n"
     ]
    }
   ],
   "source": [
    "ftm2_ind_features = ind_aggregation(ftm2_seg_data).drop(['win'], axis=1)\n",
    "ftm2_ind_features.columns = [\"\".join(x) for x in ftm2_ind_features.columns.ravel()]\n",
    "ftm2_ind_features['label'] = 2"
   ]
  },
  {
   "cell_type": "code",
   "execution_count": 88,
   "id": "8946d5a0",
   "metadata": {},
   "outputs": [],
   "source": [
    "# ftm0_ind_features.to_csv('labeled_ftm0 index features_win5_data.csv')"
   ]
  },
  {
   "cell_type": "code",
   "execution_count": 89,
   "id": "7e2495c1",
   "metadata": {},
   "outputs": [],
   "source": [
    "# ftm1_ind_features.to_csv('labeled_ftm1 index features_win5_data.csv')"
   ]
  },
  {
   "cell_type": "code",
   "execution_count": 90,
   "id": "28266d2e",
   "metadata": {},
   "outputs": [],
   "source": [
    "# ftm2_ind_features.to_csv('labeled_ftm2 index features_win5_data.csv')"
   ]
  },
  {
   "cell_type": "code",
   "execution_count": 91,
   "id": "5f152702",
   "metadata": {},
   "outputs": [],
   "source": [
    "ftm_ind_features = pd.concat([ftm0_ind_features, ftm1_ind_features, ftm2_ind_features]).reset_index()"
   ]
  },
  {
   "cell_type": "code",
   "execution_count": 92,
   "id": "40ebc813",
   "metadata": {},
   "outputs": [],
   "source": [
    "# ftm_ind_features.to_csv('labeled_ftm index features_win5_data.csv')"
   ]
  }
 ],
 "metadata": {
  "kernelspec": {
   "display_name": "Python 3 (ipykernel)",
   "language": "python",
   "name": "python3"
  },
  "language_info": {
   "codemirror_mode": {
    "name": "ipython",
    "version": 3
   },
   "file_extension": ".py",
   "mimetype": "text/x-python",
   "name": "python",
   "nbconvert_exporter": "python",
   "pygments_lexer": "ipython3",
   "version": "3.10.0"
  }
 },
 "nbformat": 4,
 "nbformat_minor": 5
}
